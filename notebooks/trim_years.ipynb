{
 "cells": [
  {
   "cell_type": "code",
   "execution_count": 139,
   "metadata": {
    "collapsed": true
   },
   "outputs": [],
   "source": [
    "import numpy as np\n",
    "import xarray as xr"
   ]
  },
  {
   "cell_type": "markdown",
   "metadata": {},
   "source": [
    "## Load file and find start year\n",
    "\n",
    "Note : this trick `int(file_name.split('_')[2][0:4])` only works if file in this format `VAR_1x1_YEARS.nc`"
   ]
  },
  {
   "cell_type": "code",
   "execution_count": 147,
   "metadata": {},
   "outputs": [],
   "source": [
    "### Load in files\n",
    "### MLD_1x1_199201_201512.nc  SST_1x1_198112_201803.nc  chl_1x1_199801-201012.nc\n",
    "### SSS_1x1_199201-201512.nc  biomes.nc                 co2atm_197901_201612.nc\n",
    "\n",
    "data_dir = '/Users/gloege/Documents/Projects/SOCAT-neural-network/data/data_driver/'\n",
    "file_name = 'co2atm_197901_201612.nc'\n",
    "ds = xr.open_dataset(data_dir + file_name)\n",
    "\n",
    "### starting year in file\n",
    "#year_start = int(file_name.split('_')[2][0:4])\n",
    "#print('The start year of ' + file_name + ' is ' + str(year_start))\n",
    "\n",
    "### This is if you want to hardcode the start year in\n",
    "year_start = 1979"
   ]
  },
  {
   "cell_type": "code",
   "execution_count": 148,
   "metadata": {},
   "outputs": [
    {
     "data": {
      "text/plain": [
       "<xarray.Dataset>\n",
       "Dimensions:  (time: 456)\n",
       "Coordinates:\n",
       "  * time     (time) float64 1.979e+03 1.979e+03 1.979e+03 1.979e+03 ...\n",
       "Data variables:\n",
       "    co2      (time) float64 ..."
      ]
     },
     "execution_count": 148,
     "metadata": {},
     "output_type": "execute_result"
    }
   ],
   "source": [
    "ds"
   ]
  },
  {
   "cell_type": "code",
   "execution_count": 149,
   "metadata": {},
   "outputs": [],
   "source": [
    "### Which variable do you care about in the file\n",
    "var = 'co2'\n",
    "\n",
    "### data grid (if -180 need to make 0 360 and roll the data)\n",
    "#lon = ds['lon']\n",
    "#lon = np.arange(0.5, 360.5)\n",
    "#lat = ds['ylat']\n",
    "t = ds['time']\n",
    "#data = ds[var]\n",
    "#data = ds[var].roll(xlon=-180)\n",
    "\n",
    "data = ds[var]"
   ]
  },
  {
   "cell_type": "code",
   "execution_count": 150,
   "metadata": {},
   "outputs": [],
   "source": [
    "### Which years do you want to load \n",
    "years_want = [1998, 2010]\n",
    "\n",
    "### Create new time vector \n",
    "time=[]\n",
    "for yr in np.arange(years_want[0], years_want[1]+1):\n",
    "    for mon in np.arange(0,12):\n",
    "        time_tmp = yr + mon/12\n",
    "        time.append(time_tmp)"
   ]
  },
  {
   "cell_type": "code",
   "execution_count": 151,
   "metadata": {},
   "outputs": [
    {
     "name": "stdout",
     "output_type": "stream",
     "text": [
      "228\n",
      "384\n"
     ]
    }
   ],
   "source": [
    "### Find the time steps for years_want that are in years_file range\n",
    "### The -1 at the end is because python indexes from 0 and not 1\n",
    "\n",
    "step0 = ( ( (years_want[0] - year_start) * 12) + 1 ) -1\n",
    "step1 = ( (step0 - 1) + (years_want[1] - years_want[0] + 1) * 12 ) + 1\n",
    "\n",
    "print(step0)\n",
    "print(step1)"
   ]
  },
  {
   "cell_type": "code",
   "execution_count": 152,
   "metadata": {},
   "outputs": [],
   "source": [
    "#data_trimmed = ds[var][step0:step1,:,:]\n",
    "# data_trimmed = data[step0:step1,:,:]\n",
    "data_trimmed = data[step0:step1]"
   ]
  },
  {
   "cell_type": "code",
   "execution_count": 154,
   "metadata": {},
   "outputs": [
    {
     "name": "stdout",
     "output_type": "stream",
     "text": [
      "write output\n"
     ]
    }
   ],
   "source": [
    "\n",
    "ds = xr.Dataset(\n",
    "\n",
    "    {\n",
    "#    var : (['time', 'nlat', 'nlon'],  data_trimmed.values),\n",
    "     var : (['time'],  data_trimmed.values),\n",
    "    },\n",
    "\n",
    "    coords={\n",
    "    #'tlat': (['nlat'], lat),\n",
    "    #'tlon': (['nlon'], lon),\n",
    "    'time': time\n",
    "    }\n",
    "\n",
    "    )\n",
    "\n",
    "print('write output')\n",
    "#ds.to_netcdf(var +'_1x1_' + str(years_want[0]) + '01-' +  str(years_want[1]) + '12.nc')\n",
    "ds.to_netcdf(var + '_avg_' + str(years_want[0]) + '01-' +  str(years_want[1]) + '12.nc')"
   ]
  },
  {
   "cell_type": "code",
   "execution_count": 102,
   "metadata": {},
   "outputs": [
    {
     "data": {
      "text/plain": [
       "<xarray.Dataset>\n",
       "Dimensions:   (nlat: 180, nlon: 360, time: 156)\n",
       "Coordinates:\n",
       "    tlat      (nlat) float32 ...\n",
       "    tlon      (nlon) float32 ...\n",
       "  * time      (time) float64 1.998e+03 1.998e+03 1.998e+03 1.998e+03 ...\n",
       "Dimensions without coordinates: nlat, nlon\n",
       "Data variables:\n",
       "    MXLDEPTH  (time, nlat, nlon) float64 ..."
      ]
     },
     "execution_count": 102,
     "metadata": {},
     "output_type": "execute_result"
    }
   ],
   "source": [
    "#ds2 = xr.open_dataset('MXLDEPTH_1x1_199801-201012.nc')\n",
    "#ds2"
   ]
  },
  {
   "cell_type": "code",
   "execution_count": null,
   "metadata": {
    "collapsed": true
   },
   "outputs": [],
   "source": []
  }
 ],
 "metadata": {
  "kernelspec": {
   "display_name": "Python3.6",
   "language": "python",
   "name": "root"
  },
  "language_info": {
   "codemirror_mode": {
    "name": "ipython",
    "version": 3
   },
   "file_extension": ".py",
   "mimetype": "text/x-python",
   "name": "python",
   "nbconvert_exporter": "python",
   "pygments_lexer": "ipython3",
   "version": "3.6.3"
  }
 },
 "nbformat": 4,
 "nbformat_minor": 2
}
