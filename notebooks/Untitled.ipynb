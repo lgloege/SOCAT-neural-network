{
 "cells": [
  {
   "cell_type": "code",
   "execution_count": 1,
   "metadata": {
    "collapsed": true
   },
   "outputs": [],
   "source": [
    "import tensorflow as tf"
   ]
  },
  {
   "cell_type": "code",
   "execution_count": 20,
   "metadata": {},
   "outputs": [
    {
     "name": "stdout",
     "output_type": "stream",
     "text": [
      "[[20 30]\n",
      " [20 30]]\n"
     ]
    }
   ],
   "source": [
    "node1 = tf.constant([[5,5], [5,5]])\n",
    "node2 = tf.constant([[1,2], [3,4]])\n",
    "\n",
    "out = tf.matmul(node1, node2)\n",
    "\n",
    "with tf.Session() as sess:\n",
    "    output = sess.run(out)\n",
    "    print(output)\n",
    "    #file_writer = tf.summary.FileWriter('/Users/gloege/Documents/Projects/SOCAT-neural-network/notebooks/graph',sess.graph)\n",
    "\n"
   ]
  },
  {
   "cell_type": "code",
   "execution_count": null,
   "metadata": {
    "collapsed": true
   },
   "outputs": [],
   "source": []
  }
 ],
 "metadata": {
  "kernelspec": {
   "display_name": "Python3.6",
   "language": "python",
   "name": "root"
  },
  "language_info": {
   "codemirror_mode": {
    "name": "ipython",
    "version": 3
   },
   "file_extension": ".py",
   "mimetype": "text/x-python",
   "name": "python",
   "nbconvert_exporter": "python",
   "pygments_lexer": "ipython3",
   "version": "3.6.3"
  }
 },
 "nbformat": 4,
 "nbformat_minor": 2
}
