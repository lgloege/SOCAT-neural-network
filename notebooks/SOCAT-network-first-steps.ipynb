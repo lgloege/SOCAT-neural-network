{
 "cells": [
  {
   "cell_type": "markdown",
   "metadata": {},
   "source": [
    "#  SOCAT neural-network : First steps\n",
    "\n",
    "This notebook contains all the code to run neural network using Tensorflow\n",
    "Driver data includes: SST, SSS, MLD, CHL, CO2 and we are predicting fCO2\n",
    "\n",
    "We are starting with monthly gridded observations 1998 - 2010"
   ]
  },
  {
   "cell_type": "code",
   "execution_count": 148,
   "metadata": {},
   "outputs": [],
   "source": [
    "import numpy as np\n",
    "import xarray as xr\n",
    "import matplotlib.pyplot as plt\n",
    "import os\n",
    "import tensorflow as tf\n",
    "import keras\n",
    "from keras.models import Sequential\n",
    "from keras.layers import Dense, Activation, Dropout\n",
    "\n",
    "from sklearn.model_selection import train_test_split\n",
    "\n",
    "%matplotlib inline"
   ]
  },
  {
   "cell_type": "code",
   "execution_count": 22,
   "metadata": {},
   "outputs": [
    {
     "name": "stdout",
     "output_type": "stream",
     "text": [
      "[name: \"/device:CPU:0\"\n",
      "device_type: \"CPU\"\n",
      "memory_limit: 268435456\n",
      "locality {\n",
      "}\n",
      "incarnation: 15675570753498111639\n",
      "]\n"
     ]
    }
   ],
   "source": [
    "### Print if using CPU or GPU\n",
    "from tensorflow.python.client import device_lib\n",
    "print(device_lib.list_local_devices())"
   ]
  },
  {
   "cell_type": "markdown",
   "metadata": {},
   "source": [
    "### All you need to change is data_dir"
   ]
  },
  {
   "cell_type": "code",
   "execution_count": 2,
   "metadata": {},
   "outputs": [
    {
     "data": {
      "text/plain": [
       "['SOCATv5_mask_199801-201012.nc',\n",
       " 'SALT_1x1_199801-201012.nc',\n",
       " 'MXLDEPTH_1x1_199801-201012.nc',\n",
       " 'co2_avg_199801-201012.nc',\n",
       " 'sst_1x1_199801-201012.nc',\n",
       " 'biomes.nc',\n",
       " 'SOCATv5_gridded_monthly_199801-201012.nc',\n",
       " 'Chl_1x1_199801-201012.nc']"
      ]
     },
     "execution_count": 2,
     "metadata": {},
     "output_type": "execute_result"
    }
   ],
   "source": [
    "data_dir='/Users/gloege/Documents/Projects/SOCAT-neural-network/data/data_driver_fixed/'\n",
    "os.listdir(data_dir)"
   ]
  },
  {
   "cell_type": "markdown",
   "metadata": {},
   "source": [
    "# 1. Get the data and sample like it's SOCAT"
   ]
  },
  {
   "cell_type": "code",
   "execution_count": 3,
   "metadata": {
    "collapsed": true
   },
   "outputs": [],
   "source": [
    "### SOCAT data paths\n",
    "fl_mask = data_dir + 'SOCATv5_mask_199801-201012.nc'\n",
    "fl_socat = data_dir + 'SOCATv5_gridded_monthly_199801-201012.nc'\n",
    "\n",
    "### Driver data paths\n",
    "fl_sss = data_dir + 'SALT_1x1_199801-201012.nc'\n",
    "fl_mld = data_dir + 'MXLDEPTH_1x1_199801-201012.nc'\n",
    "fl_co2 = data_dir + 'co2_avg_199801-201012.nc'\n",
    "fl_sst = data_dir + 'sst_1x1_199801-201012.nc'\n",
    "fl_chl = data_dir + 'Chl_1x1_199801-201012.nc'\n",
    "\n",
    "### biomes\n",
    "fl_biomes = data_dir + 'biomes.nc'"
   ]
  },
  {
   "cell_type": "code",
   "execution_count": 4,
   "metadata": {
    "collapsed": true
   },
   "outputs": [],
   "source": [
    "### SOCAT data \n",
    "ds_mask = xr.open_dataset(fl_mask)\n",
    "ds_socat = xr.open_dataset(fl_socat)\n",
    "\n",
    "### Driver data\n",
    "ds_sss = xr.open_dataset(fl_sss)\n",
    "ds_mld = xr.open_dataset(fl_mld)\n",
    "ds_co2 = xr.open_dataset(fl_co2)\n",
    "ds_sst = xr.open_dataset(fl_sst)\n",
    "ds_chl = xr.open_dataset(fl_chl)\n",
    "\n",
    "### Biomes\n",
    "ds_biomes = xr.open_dataset(fl_biomes)\n",
    "#mask = ds['socat_mask'].roll(xlon=-180)"
   ]
  },
  {
   "cell_type": "code",
   "execution_count": null,
   "metadata": {
    "collapsed": true
   },
   "outputs": [],
   "source": []
  },
  {
   "cell_type": "code",
   "execution_count": 5,
   "metadata": {},
   "outputs": [
    {
     "name": "stdout",
     "output_type": "stream",
     "text": [
      "Make sure all same dimensions\n",
      "(156, 180, 360)\n",
      "(156, 180, 360)\n",
      "(156, 180, 360)\n",
      "(156, 180, 360)\n",
      "(156, 180, 360)\n",
      "(156, 180, 360)\n",
      "(156,)\n"
     ]
    }
   ],
   "source": [
    "### Make sure all the same dimensions\n",
    "print('Make sure all same dimensions')\n",
    "print(ds_mask['socat_mask'].shape)\n",
    "print(ds_socat['FCO2_AVE_UNWTD'].shape)\n",
    "print(ds_sss['SALT'].shape)\n",
    "print(ds_sst['sst'].shape)\n",
    "print(ds_chl['Chl'].shape)\n",
    "print(ds_mld['MXLDEPTH'].shape)\n",
    "print(ds_co2['co2'].shape) \n"
   ]
  },
  {
   "cell_type": "code",
   "execution_count": null,
   "metadata": {
    "collapsed": true
   },
   "outputs": [],
   "source": []
  },
  {
   "cell_type": "code",
   "execution_count": 6,
   "metadata": {},
   "outputs": [
    {
     "name": "stdout",
     "output_type": "stream",
     "text": [
      "Make sure longitudes are 0 - 360\n",
      "0.5\n",
      "0.5\n",
      "0.5\n",
      "0.5\n",
      "0.5\n",
      "0.5\n"
     ]
    }
   ],
   "source": [
    "### Make sure all the same dimensions\n",
    "print('Make sure longitudes are 0 - 360')\n",
    "print(ds_mask['xlon'].values[0])\n",
    "print(ds_socat['xlon'].values[0])\n",
    "print(ds_sss['tlon'].values[0])\n",
    "print(ds_sst['tlon'].values[0])\n",
    "print(ds_chl['tlon'].values[0])\n",
    "print(ds_mld['tlon'].values[0])"
   ]
  },
  {
   "cell_type": "code",
   "execution_count": 7,
   "metadata": {},
   "outputs": [
    {
     "name": "stdout",
     "output_type": "stream",
     "text": [
      "The shape of CO2 is now : (156, 180, 360)\n"
     ]
    }
   ],
   "source": [
    "### Grid\n",
    "lon = ds_socat['xlon']\n",
    "lat = ds_socat['ylat']\n",
    "time = ds_socat['tmnth']\n",
    "\n",
    "### Data\n",
    "mask = ds_mask['socat_mask'].values\n",
    "fco2 = ds_socat['FCO2_AVE_UNWTD'].values\n",
    "sss = ds_sss['SALT'].values\n",
    "sst = ds_sst['sst'].values\n",
    "chl = ds_chl['Chl'].values\n",
    "mld = ds_mld['MXLDEPTH'].values\n",
    "\n",
    "### This tiles CO2 so same shape as the others.\n",
    "co2 = np.tile(ds_co2['co2'].values[:, np.newaxis, np.newaxis],(1,180,360))\n",
    "\n",
    "### Show me the shape of co2\n",
    "print('The shape of CO2 is now : ' + str(co2.shape))"
   ]
  },
  {
   "cell_type": "code",
   "execution_count": 8,
   "metadata": {},
   "outputs": [
    {
     "data": {
      "text/plain": [
       "(180, 360)"
      ]
     },
     "execution_count": 8,
     "metadata": {},
     "output_type": "execute_result"
    }
   ],
   "source": [
    "tlon, tlat = np.meshgrid(lon,lat)\n",
    "biomes = np.swapaxes(ds_biomes['MeanBiomes'].roll(lon=-180),0,1).values\n",
    "biomes.shape\n",
    "#inds0, inds1 = np.where(biomes==3)\n",
    "#biomes.shape\n",
    "#plt.pcolor(tlon[inds0, inds1],tlat[inds0, inds1],biomes[inds0, inds1])\n",
    "#plt.show()"
   ]
  },
  {
   "cell_type": "markdown",
   "metadata": {},
   "source": [
    "## Maximum of each variable\n",
    "I am taking the max of the unsampled (i.e. not sampled like SOCAT) and dividing this by the vector to normalize it between 0 and 1"
   ]
  },
  {
   "cell_type": "code",
   "execution_count": 9,
   "metadata": {},
   "outputs": [
    {
     "name": "stdout",
     "output_type": "stream",
     "text": [
      "max sss 39.7352581024\n",
      "max sst 34.82\n",
      "max chl 99.2970428467\n",
      "max mld 3564.49597168\n",
      "max co2 390.11925\n"
     ]
    }
   ],
   "source": [
    "fco2_max = np.nanmax(fco2)\n",
    "\n",
    "### drivers\n",
    "sss_max = np.nanmax(sss)\n",
    "sst_max = np.nanmax(sst)\n",
    "chl_max = np.nanmax(chl)\n",
    "mld_max = np.nanmax(mld)\n",
    "co2_max = np.nanmax(co2)\n",
    "\n",
    "print('max sss ' + str(sss_max))\n",
    "print('max sst ' + str(sst_max))\n",
    "print('max chl ' + str(chl_max))\n",
    "print('max mld ' + str(mld_max))\n",
    "print('max co2 ' + str(co2_max))"
   ]
  },
  {
   "cell_type": "markdown",
   "metadata": {},
   "source": [
    "## Mask the data like it is SOCAT"
   ]
  },
  {
   "cell_type": "code",
   "execution_count": 10,
   "metadata": {
    "collapsed": true
   },
   "outputs": [],
   "source": [
    "fco2_ma = np.ma.masked_array(fco2, mask=(mask==0))/fco2_max\n",
    "\n",
    "sst_ma = np.ma.masked_array(sst, mask=(mask==0))/sst_max\n",
    "sss_ma = np.ma.masked_array(sss, mask=(mask==0))/sss_max\n",
    "chl_ma = np.ma.masked_array(chl, mask=(mask==0))/chl_max\n",
    "mld_ma = np.ma.masked_array(mld, mask=(mask==0))/mld_max\n",
    "co2_ma = np.ma.masked_array(co2, mask=(mask==0))/co2_max"
   ]
  },
  {
   "cell_type": "markdown",
   "metadata": {},
   "source": [
    "## Driver data in large matrix and output"
   ]
  },
  {
   "cell_type": "code",
   "execution_count": null,
   "metadata": {
    "collapsed": true
   },
   "outputs": [],
   "source": [
    "### Define a meshgrid from lon and lat\n",
    "lon_mesh, lat_mesh = np.meshgrid(lon,lat)\n",
    "\n",
    "### Tile the meshgrid to the number of time steps\n",
    "lat_tiled = np.tile(lat_mesh[np.newaxis, :, :],(len(time),1, 1))\n",
    "lon_tiled = np.tile(lon_mesh[np.newaxis, :, :],(len(time),1, 1))\n",
    "\n",
    "### plot it\n",
    "#plt.pcolor(lon_tiled[100,:,:],lat_tiled[30,:,:],sst[0,:,:])"
   ]
  },
  {
   "cell_type": "code",
   "execution_count": 93,
   "metadata": {},
   "outputs": [
    {
     "data": {
      "text/plain": [
       "(156, 180, 360)"
      ]
     },
     "execution_count": 93,
     "metadata": {},
     "output_type": "execute_result"
    }
   ],
   "source": [
    "time_tiled = np.tile(time.values[:, np.newaxis, np.newaxis],(1,180,360))\n",
    "time_tiled.shape"
   ]
  },
  {
   "cell_type": "code",
   "execution_count": 98,
   "metadata": {},
   "outputs": [
    {
     "data": {
      "text/plain": [
       "(156, 180, 360)"
      ]
     },
     "execution_count": 98,
     "metadata": {},
     "output_type": "execute_result"
    }
   ],
   "source": [
    "### biomes\n",
    "fl_biomes = data_dir + 'biomes.nc'\n",
    "\n",
    "### Get Mean biomes and make lon 0-360\n",
    "mean_biomes = np.swapaxes(ds_biomes['MeanBiomes'].roll(lon=-180),0,1).values\n",
    "\n",
    "### biomes_tiled\n",
    "biomes_tiled = np.tile(mean_biomes[np.newaxis, :, :],(len(time),1, 1))\n",
    "\n",
    "### Replace nans with zero\n",
    "biomes_land = np.isnan(mean_biomes)\n",
    "mean_biomes[biomes_land] = 0\n",
    "\n",
    "### Use tensorflow to one-hot encode\n",
    "with tf.Session() as sess:\n",
    "    biomes_one_hot = sess.run(tf.one_hot(mean_biomes,18))\n",
    "\n",
    "### Tile biomes_one_hot\n",
    "biomes_one_hot_tiled = np.tile(biomes_one_hot[np.newaxis, :, :, :],(len(time),1, 1, 1))\n",
    "\n",
    "### plot one of the biomes\n",
    "print(one_hot.shape)\n",
    "plt.pcolor(lon,lat,biomes_one_hot[:,:,4])"
   ]
  },
  {
   "cell_type": "code",
   "execution_count": 174,
   "metadata": {},
   "outputs": [
    {
     "data": {
      "text/plain": [
       "(10108800,)"
      ]
     },
     "execution_count": 174,
     "metadata": {},
     "output_type": "execute_result"
    }
   ],
   "source": []
  },
  {
   "cell_type": "markdown",
   "metadata": {},
   "source": [
    "![mean_biomes](https://doi.pangaea.de/10013/epic.42948.d004)"
   ]
  },
  {
   "cell_type": "markdown",
   "metadata": {},
   "source": [
    "# BIOMES IS A PREDICTOR AS 1-16\n",
    "### NOT A GOOD IDEA!!!!\n",
    "Use one-hot encoding. Maybe tensorflow can help? https://www.tensorflow.org/api_docs/python/tf/one_hot"
   ]
  },
  {
   "cell_type": "code",
   "execution_count": 179,
   "metadata": {},
   "outputs": [
    {
     "name": "stdout",
     "output_type": "stream",
     "text": [
      "shape of driver: (10108800, 23)\n",
      "shape of true_value: (10108800,)\n"
     ]
    }
   ],
   "source": [
    "### What is driving the model\n",
    "driver = np.transpose(np.stack((sst_ma.flatten(),     # SST\n",
    "                                sss_ma.flatten(),     # SSS \n",
    "                                chl_ma.flatten(),     # Chl\n",
    "                                mld_ma.flatten(),     # MLD\n",
    "                                co2_ma.flatten(),     # atm. CO2\n",
    "                                #lon_tiled.flatten(),  # Longitude\n",
    "                                #lat_tiled.flatten(),  # Latitude\n",
    "                                #time_tiled.flatten(), # time\n",
    "                                ### Biomes are one-hot encoded ###\n",
    "                                biomes_one_hot_tiled[:,:,:,0].flatten(), # <-- This one is 1 where there is land\n",
    "                                biomes_one_hot_tiled[:,:,:,1].flatten(),\n",
    "                                biomes_one_hot_tiled[:,:,:,2].flatten(),\n",
    "                                biomes_one_hot_tiled[:,:,:,3].flatten(),\n",
    "                                biomes_one_hot_tiled[:,:,:,4].flatten(),\n",
    "                                biomes_one_hot_tiled[:,:,:,5].flatten(),\n",
    "                                biomes_one_hot_tiled[:,:,:,6].flatten(),\n",
    "                                biomes_one_hot_tiled[:,:,:,7].flatten(),\n",
    "                                biomes_one_hot_tiled[:,:,:,8].flatten(),\n",
    "                                biomes_one_hot_tiled[:,:,:,9].flatten(),\n",
    "                                biomes_one_hot_tiled[:,:,:,10].flatten(),\n",
    "                                biomes_one_hot_tiled[:,:,:,11].flatten(),\n",
    "                                biomes_one_hot_tiled[:,:,:,12].flatten(),\n",
    "                                biomes_one_hot_tiled[:,:,:,13].flatten(),\n",
    "                                biomes_one_hot_tiled[:,:,:,14].flatten(),\n",
    "                                biomes_one_hot_tiled[:,:,:,15].flatten(),\n",
    "                                biomes_one_hot_tiled[:,:,:,16].flatten(),\n",
    "                                biomes_one_hot_tiled[:,:,:,17].flatten(),\n",
    "                               )))\n",
    "\n",
    "### What the true value is \n",
    "true_value = fco2_ma.flatten()\n",
    "\n",
    "print('shape of driver: ' + str(driver.shape))\n",
    "print('shape of true_value: ' + str(true_value.shape))"
   ]
  },
  {
   "cell_type": "markdown",
   "metadata": {},
   "source": [
    "## Remove rows with NaN\n",
    "I am calling these driver_nn and true_value_nn"
   ]
  },
  {
   "cell_type": "code",
   "execution_count": 180,
   "metadata": {
    "collapsed": true
   },
   "outputs": [],
   "source": [
    "#\n",
    "#nan_mask = ~np.isnan(driver).any(axis=1)\n",
    "nan_mask=(~np.isnan(driver).any(axis=1)) & (~np.isnan(true_value))"
   ]
  },
  {
   "cell_type": "code",
   "execution_count": 181,
   "metadata": {
    "collapsed": true
   },
   "outputs": [],
   "source": [
    "#nan_mask = ~np.isnan(driver).any(axis=1)"
   ]
  },
  {
   "cell_type": "code",
   "execution_count": 182,
   "metadata": {
    "collapsed": true
   },
   "outputs": [],
   "source": [
    "driver_nn = driver[nan_mask]\n",
    "true_value_nn = true_value[nan_mask]"
   ]
  },
  {
   "cell_type": "code",
   "execution_count": 183,
   "metadata": {},
   "outputs": [
    {
     "name": "stdout",
     "output_type": "stream",
     "text": [
      "shape of driver_nn: (113712, 23)\n",
      "shape of true_value_nn: (113712,)\n"
     ]
    }
   ],
   "source": [
    "print('shape of driver_nn: ' + str(driver_nn.shape))\n",
    "print('shape of true_value_nn: ' + str(true_value_nn.shape))"
   ]
  },
  {
   "cell_type": "markdown",
   "metadata": {},
   "source": [
    "## Split into training and testing"
   ]
  },
  {
   "cell_type": "code",
   "execution_count": 184,
   "metadata": {
    "collapsed": true
   },
   "outputs": [],
   "source": [
    "X_train, X_test, y_train, y_test = train_test_split(driver_nn, true_value_nn, random_state=42)"
   ]
  },
  {
   "cell_type": "code",
   "execution_count": 185,
   "metadata": {},
   "outputs": [
    {
     "name": "stdout",
     "output_type": "stream",
     "text": [
      "shape of X_train: (85284, 23)\n",
      "shape of X_test: (28428, 23)\n",
      "shape of y_train: (85284,)\n",
      "shape of y_test: (28428,)\n"
     ]
    }
   ],
   "source": [
    "print('shape of X_train: ' + str(X_train.shape))\n",
    "print('shape of X_test: ' + str(X_test.shape))\n",
    "print('shape of y_train: ' + str(y_train.shape))\n",
    "print('shape of y_test: ' + str(y_test.shape))"
   ]
  },
  {
   "cell_type": "code",
   "execution_count": 186,
   "metadata": {
    "collapsed": true
   },
   "outputs": [],
   "source": [
    "#tmp = ~np.isnan(true_value_nn)\n",
    "#print(np.sum(tmp))\n",
    "#print(tmp.shape)"
   ]
  },
  {
   "cell_type": "markdown",
   "metadata": {},
   "source": [
    "# 2. Building a network"
   ]
  },
  {
   "cell_type": "code",
   "execution_count": 196,
   "metadata": {
    "collapsed": true
   },
   "outputs": [],
   "source": [
    "### Model architecture\n",
    "model = Sequential()\n",
    "model.add(Dense(20, input_shape=(23,), \n",
    "          activation='relu',\n",
    "          kernel_initializer=keras.initializers.random_normal(seed=42)))\n",
    "model.add(Dense(1, \n",
    "          activation='linear',\n",
    "          kernel_initializer=keras.initializers.random_normal(seed=42)))\n"
   ]
  },
  {
   "cell_type": "code",
   "execution_count": 197,
   "metadata": {},
   "outputs": [
    {
     "name": "stdout",
     "output_type": "stream",
     "text": [
      "_________________________________________________________________\n",
      "Layer (type)                 Output Shape              Param #   \n",
      "=================================================================\n",
      "dense_7 (Dense)              (None, 20)                480       \n",
      "_________________________________________________________________\n",
      "dense_8 (Dense)              (None, 1)                 21        \n",
      "=================================================================\n",
      "Total params: 501\n",
      "Trainable params: 501\n",
      "Non-trainable params: 0\n",
      "_________________________________________________________________\n"
     ]
    }
   ],
   "source": [
    "model.compile(optimizer='adam',\n",
    "              loss='mse')\n",
    "\n",
    "model.summary()"
   ]
  },
  {
   "cell_type": "code",
   "execution_count": 198,
   "metadata": {},
   "outputs": [
    {
     "name": "stdout",
     "output_type": "stream",
     "text": [
      "Epoch 1/10\n",
      "85284/85284 [==============================] - 4s 41us/step - loss: 9.5800e-05\n",
      "Epoch 2/10\n",
      "85284/85284 [==============================] - 3s 37us/step - loss: 6.9575e-05\n",
      "Epoch 3/10\n",
      "85284/85284 [==============================] - 4s 41us/step - loss: 6.6632e-05\n",
      "Epoch 4/10\n",
      "85284/85284 [==============================] - 3s 37us/step - loss: 6.5536e-05\n",
      "Epoch 5/10\n",
      "85284/85284 [==============================] - 4s 45us/step - loss: 6.4307e-05\n",
      "Epoch 6/10\n",
      "85284/85284 [==============================] - 4s 47us/step - loss: 6.3756e-05\n",
      "Epoch 7/10\n",
      "85284/85284 [==============================] - 4s 41us/step - loss: 6.3416e-05\n",
      "Epoch 8/10\n",
      "85284/85284 [==============================] - 4s 48us/step - loss: 6.3114e-05\n",
      "Epoch 9/10\n",
      "85284/85284 [==============================] - 3s 39us/step - loss: 6.2988e-05\n",
      "Epoch 10/10\n",
      "85284/85284 [==============================] - 3s 38us/step - loss: 6.2874e-05\n"
     ]
    }
   ],
   "source": [
    "history_callback = model.fit(X_train, y_train, epochs=10, verbose=1)"
   ]
  },
  {
   "cell_type": "code",
   "execution_count": 73,
   "metadata": {
    "collapsed": true
   },
   "outputs": [],
   "source": [
    "#score = model.evaluate(X_test, y_test, verbose=0)\n",
    "#print(\"Test loss: {:.3f}\".format(score[0]))\n",
    "#print(\"Test Accuracy: {:.3f}\".format(score[1]))"
   ]
  },
  {
   "cell_type": "code",
   "execution_count": 199,
   "metadata": {},
   "outputs": [
    {
     "name": "stdout",
     "output_type": "stream",
     "text": [
      "28428/28428 [==============================] - 0s 16us/step\n"
     ]
    }
   ],
   "source": [
    "y_pred = model.predict(X_test, verbose=1)"
   ]
  },
  {
   "cell_type": "code",
   "execution_count": 200,
   "metadata": {},
   "outputs": [
    {
     "data": {
      "image/png": "[encoded data removed]",
      "text/plain": [
       "<matplotlib.figure.Figure at 0x1ce4980550>"
      ]
     },
     "metadata": {},
     "output_type": "display_data"
    }
   ],
   "source": [
    "plt.scatter(y_test, y_pred)\n",
    "plt.ylim([0,0.15])\n",
    "plt.xlim([0,0.15])\n",
    "plt.show()"
   ]
  },
  {
   "cell_type": "code",
   "execution_count": null,
   "metadata": {
    "collapsed": true
   },
   "outputs": [],
   "source": []
  }
 ],
 "metadata": {
  "kernelspec": {
   "display_name": "Python3.6",
   "language": "python",
   "name": "root"
  },
  "language_info": {
   "codemirror_mode": {
    "name": "ipython",
    "version": 3
   },
   "file_extension": ".py",
   "mimetype": "text/x-python",
   "name": "python",
   "nbconvert_exporter": "python",
   "pygments_lexer": "ipython3",
   "version": "3.6.3"
  }
 },
 "nbformat": 4,
 "nbformat_minor": 2
}
