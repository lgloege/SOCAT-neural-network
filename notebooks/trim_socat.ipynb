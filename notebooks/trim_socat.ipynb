{
 "cells": [
  {
   "cell_type": "code",
   "execution_count": 1,
   "metadata": {
    "collapsed": true
   },
   "outputs": [],
   "source": [
    "import numpy as np\n",
    "import xarray as xr\n",
    "import matplotlib.pyplot as plt"
   ]
  },
  {
   "cell_type": "code",
   "execution_count": 2,
   "metadata": {
    "collapsed": true
   },
   "outputs": [],
   "source": [
    "data_dir = '/Users/gloege/Documents/Projects/SOCAT-neural-network/data/data_driver_fixed/'\n",
    "fl = data_dir + 'SOCATv5_tracks_gridded_monthly.nc'\n",
    "ds = xr.open_dataset(fl)"
   ]
  },
  {
   "cell_type": "code",
   "execution_count": 4,
   "metadata": {},
   "outputs": [
    {
     "data": {
      "text/plain": [
       "<xarray.DataArray 'tmnth' (tmnth: 565)>\n",
       "array(['1970-01-16T12:00:00.000000000', '1970-02-15T00:00:00.000000000',\n",
       "       '1970-03-16T12:00:00.000000000', ..., '2016-11-16T00:00:00.000000000',\n",
       "       '2016-12-16T12:00:00.000000000', '2017-01-16T12:00:00.000000000'], dtype='datetime64[ns]')\n",
       "Coordinates:\n",
       "  * tmnth    (tmnth) datetime64[ns] 1970-01-16T12:00:00 1970-02-15 ...\n",
       "Attributes:\n",
       "    axis:           T\n",
       "    bounds:         tmnth_bnds\n",
       "    time_origin:    1-JAN-1970\n",
       "    standard_name:  time"
      ]
     },
     "execution_count": 4,
     "metadata": {},
     "output_type": "execute_result"
    }
   ],
   "source": [
    "ds['tmnth']"
   ]
  },
  {
   "cell_type": "code",
   "execution_count": null,
   "metadata": {
    "collapsed": true
   },
   "outputs": [],
   "source": []
  }
 ],
 "metadata": {
  "kernelspec": {
   "display_name": "Python3.6",
   "language": "python",
   "name": "root"
  },
  "language_info": {
   "codemirror_mode": {
    "name": "ipython",
    "version": 3
   },
   "file_extension": ".py",
   "mimetype": "text/x-python",
   "name": "python",
   "nbconvert_exporter": "python",
   "pygments_lexer": "ipython3",
   "version": "3.6.3"
  }
 },
 "nbformat": 4,
 "nbformat_minor": 2
}
