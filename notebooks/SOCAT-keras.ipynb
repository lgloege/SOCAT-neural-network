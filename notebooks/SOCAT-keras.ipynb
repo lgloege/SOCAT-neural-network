{
 "cells": [
  {
   "cell_type": "markdown",
   "metadata": {},
   "source": [
    "#  SOCAT neural-network : TensorFlow with Keras API\n",
    "\n",
    "This notebook contains all the code to run neural network using Tensorflow\n",
    "Driver data includes: SST, SSS, MLD, CHL, CO2 and we are predicting fCO2\n",
    "\n",
    "We are starting with monthly gridded observations 1998 - 2010\n",
    "\n",
    "- Decent blog post on NN: http://blog.aloni.org/posts/backprop-with-tensorflow/"
   ]
  },
  {
   "cell_type": "code",
   "execution_count": 1,
   "metadata": {
    "collapsed": true
   },
   "outputs": [],
   "source": [
    "### Standard imports\n",
    "%matplotlib inline\n",
    "import numpy as np\n",
    "import xarray as xr\n",
    "import pandas as pd\n",
    "import matplotlib.pyplot as plt\n",
    "import os\n",
    "\n",
    "### Tensorflow / Keras imports\n",
    "# from tf.keras.models import Sequential  # This does not work!\n",
    "import tensorflow as tf\n",
    "from tensorflow.python import keras\n",
    "from tensorflow.python.keras.models import Sequential\n",
    "from tensorflow.python.keras.layers import InputLayer, Input\n",
    "from tensorflow.python.keras.layers import Reshape\n",
    "from tensorflow.python.keras.layers import Dense, Flatten\n",
    "from tensorflow.python.keras.layers import Activation, Dropout\n",
    "\n",
    "### sklearn imports\n",
    "import sklearn as sk\n",
    "from sklearn.model_selection import train_test_split\n",
    "from sklearn.preprocessing import scale\n",
    "from sklearn.preprocessing import robust_scale\n",
    "from sklearn.preprocessing import normalize\n",
    "from sklearn.preprocessing import minmax_scale\n",
    "\n",
    "### Print if using CPU or GPU\n",
    "#from tensorflow.python.client import device_lib\n",
    "#print(device_lib.list_local_devices())"
   ]
  },
  {
   "cell_type": "code",
   "execution_count": 2,
   "metadata": {},
   "outputs": [
    {
     "name": "stdout",
     "output_type": "stream",
     "text": [
      "tensorflow version  1.5.1\n",
      "keras version  2.1.2-tf\n",
      "numpy version  1.13.3\n",
      "xarray version  0.10.2\n",
      "pandas version  0.20.3\n",
      "sklearn version 0.19.1\n"
     ]
    }
   ],
   "source": [
    "print('tensorflow version ',tf.__version__)\n",
    "print('keras version ',tf.keras.__version__)\n",
    "print('numpy version ',np.__version__)\n",
    "print('xarray version ',xr.__version__)\n",
    "print('pandas version ',pd.__version__)\n",
    "print('sklearn version',sk.__version__)"
   ]
  },
  {
   "cell_type": "markdown",
   "metadata": {},
   "source": [
    "### All you need to change is data_dir"
   ]
  },
  {
   "cell_type": "code",
   "execution_count": 3,
   "metadata": {},
   "outputs": [
    {
     "data": {
      "text/plain": [
       "['SOCATv5_mask_199801-201012.nc',\n",
       " 'SALT_1x1_199801-201012.nc',\n",
       " 'MXLDEPTH_1x1_199801-201012.nc',\n",
       " 'co2_avg_199801-201012.nc',\n",
       " 'sst_1x1_199801-201012.nc',\n",
       " 'biomes.nc',\n",
       " 'SOCATv5_gridded_monthly_199801-201012.nc',\n",
       " 'Chl_1x1_199801-201012.nc']"
      ]
     },
     "execution_count": 3,
     "metadata": {},
     "output_type": "execute_result"
    }
   ],
   "source": [
    "data_dir='/Users/gloege/Documents/Projects/SOCAT-neural-network/data/data_driver_fixed/'\n",
    "os.listdir(data_dir)"
   ]
  },
  {
   "cell_type": "markdown",
   "metadata": {},
   "source": [
    "# 1. Get the data and sample like it's SOCAT"
   ]
  },
  {
   "cell_type": "code",
   "execution_count": 4,
   "metadata": {
    "collapsed": true
   },
   "outputs": [],
   "source": [
    "### SOCAT data paths\n",
    "fl_mask = data_dir + 'SOCATv5_mask_199801-201012.nc'\n",
    "fl_socat = data_dir + 'SOCATv5_gridded_monthly_199801-201012.nc'\n",
    "\n",
    "### Driver data paths\n",
    "fl_sss = data_dir + 'SALT_1x1_199801-201012.nc'\n",
    "fl_mld = data_dir + 'MXLDEPTH_1x1_199801-201012.nc'\n",
    "fl_co2 = data_dir + 'co2_avg_199801-201012.nc'\n",
    "fl_sst = data_dir + 'sst_1x1_199801-201012.nc'\n",
    "fl_chl = data_dir + 'Chl_1x1_199801-201012.nc'\n",
    "\n",
    "### biomes\n",
    "fl_biomes = data_dir + 'biomes.nc'"
   ]
  },
  {
   "cell_type": "code",
   "execution_count": 5,
   "metadata": {
    "collapsed": true
   },
   "outputs": [],
   "source": [
    "### SOCAT data \n",
    "ds_mask = xr.open_dataset(fl_mask)\n",
    "ds_socat = xr.open_dataset(fl_socat)\n",
    "\n",
    "### Driver data\n",
    "ds_sss = xr.open_dataset(fl_sss)\n",
    "ds_mld = xr.open_dataset(fl_mld)\n",
    "ds_co2 = xr.open_dataset(fl_co2)\n",
    "ds_sst = xr.open_dataset(fl_sst)\n",
    "ds_chl = xr.open_dataset(fl_chl)\n",
    "\n",
    "### Biomes\n",
    "ds_biomes = xr.open_dataset(fl_biomes)"
   ]
  },
  {
   "cell_type": "code",
   "execution_count": 6,
   "metadata": {},
   "outputs": [
    {
     "name": "stdout",
     "output_type": "stream",
     "text": [
      "Make sure all same dimensions and lon starts at 0\n",
      "(156, 180, 360) 0.5\n",
      "(156, 180, 360) 0.5\n",
      "(156, 180, 360) 0.5\n",
      "(156, 180, 360) 0.5\n",
      "(156, 180, 360) 0.5\n",
      "(156, 180, 360) 0.5\n",
      "(156,)\n"
     ]
    }
   ],
   "source": [
    "### Make sure all the same dimensions\n",
    "print('Make sure all same dimensions and lon starts at 0')\n",
    "print(ds_mask['socat_mask'].shape, ds_mask['xlon'].values[0])\n",
    "print(ds_socat['FCO2_AVE_UNWTD'].shape, ds_socat['xlon'].values[0])\n",
    "print(ds_sss['SALT'].shape, ds_sss['tlon'].values[0])\n",
    "print(ds_sst['sst'].shape, ds_sst['tlon'].values[0])\n",
    "print(ds_chl['Chl'].shape, ds_chl['tlon'].values[0])\n",
    "print(ds_mld['MXLDEPTH'].shape, ds_mld['tlon'].values[0])\n",
    "print(ds_co2['co2'].shape) \n"
   ]
  },
  {
   "cell_type": "code",
   "execution_count": 7,
   "metadata": {},
   "outputs": [
    {
     "name": "stdout",
     "output_type": "stream",
     "text": [
      "The shape of CO2 is now : (156, 180, 360)\n"
     ]
    }
   ],
   "source": [
    "### Grid\n",
    "lon = ds_socat['xlon']\n",
    "lat = ds_socat['ylat']\n",
    "time = ds_socat['tmnth']\n",
    "\n",
    "### Data\n",
    "mask = ds_mask['socat_mask'].values\n",
    "fco2 = ds_socat['FCO2_AVE_UNWTD'].values\n",
    "sss = ds_sss['SALT'].values\n",
    "sst = ds_sst['sst'].values\n",
    "chl = ds_chl['Chl'].values\n",
    "mld = ds_mld['MXLDEPTH'].values\n",
    "\n",
    "### This tiles CO2 so same shape as the others.\n",
    "co2 = np.tile(ds_co2['co2'].values[:, np.newaxis, np.newaxis],(1,180,360))\n",
    "\n",
    "### Show me the shape of co2\n",
    "print('The shape of CO2 is now : ' + str(co2.shape))"
   ]
  },
  {
   "cell_type": "markdown",
   "metadata": {},
   "source": [
    "## One-hot encode the biomes"
   ]
  },
  {
   "cell_type": "markdown",
   "metadata": {},
   "source": [
    "![mean_biomes](https://doi.pangaea.de/10013/epic.42948.d004)"
   ]
  },
  {
   "cell_type": "code",
   "execution_count": 8,
   "metadata": {},
   "outputs": [
    {
     "name": "stdout",
     "output_type": "stream",
     "text": [
      "(156, 180, 360, 18)\n"
     ]
    }
   ],
   "source": [
    "### biomes\n",
    "fl_biomes = data_dir + 'biomes.nc'\n",
    "\n",
    "### Get Mean biomes and make lon 0-360\n",
    "mean_biomes = np.swapaxes(ds_biomes['MeanBiomes'].roll(lon=-180),0,1).values\n",
    "\n",
    "### biomes_tiled\n",
    "biomes_tiled = np.tile(mean_biomes[np.newaxis, :, :],(len(time),1, 1))\n",
    "\n",
    "### Replace nans with zero\n",
    "biomes_land = np.isnan(mean_biomes)\n",
    "mean_biomes[biomes_land] = 0\n",
    "\n",
    "### Use tensorflow to one-hot encode\n",
    "with tf.Session() as sess:\n",
    "    biomes_one_hot = sess.run(tf.one_hot(mean_biomes,18))\n",
    "\n",
    "### Tile biomes_one_hot\n",
    "biomes_one_hot_tiled = np.tile(biomes_one_hot[np.newaxis, :, :, :],(len(time),1, 1, 1))\n",
    "\n",
    "### plot one of the biomes\n",
    "print(biomes_one_hot_tiled.shape)\n",
    "# plt.pcolor(lon,lat,biomes_one_hot[:,:,4])"
   ]
  },
  {
   "cell_type": "markdown",
   "metadata": {},
   "source": [
    "## Tile lat lon and time"
   ]
  },
  {
   "cell_type": "code",
   "execution_count": 9,
   "metadata": {
    "collapsed": true
   },
   "outputs": [],
   "source": [
    "### Define a meshgrid from lon and lat\n",
    "lon_mesh, lat_mesh = np.meshgrid(lon,lat)\n",
    "\n",
    "### Tile the meshgrid to the number of time steps\n",
    "lat_tiled = np.tile(lat_mesh[np.newaxis, :, :],(len(time),1, 1))\n",
    "lon_tiled = np.tile(lon_mesh[np.newaxis, :, :],(len(time),1, 1))\n",
    "\n",
    "### Tile time\n",
    "time_tiled = np.tile(time.values[:, np.newaxis, np.newaxis],(1,180,360))\n",
    "#time_tiled.shape"
   ]
  },
  {
   "cell_type": "markdown",
   "metadata": {},
   "source": [
    "## Mask the data like it is SOCAT"
   ]
  },
  {
   "cell_type": "code",
   "execution_count": 10,
   "metadata": {
    "collapsed": true
   },
   "outputs": [],
   "source": [
    "fco2_ma = np.ma.masked_array(fco2, mask=(mask==0))\n",
    "\n",
    "sst_ma = np.ma.masked_array(sst, mask=(mask==0))\n",
    "sss_ma = np.ma.masked_array(sss, mask=(mask==0))\n",
    "chl_ma = np.ma.masked_array(chl, mask=(mask==0))\n",
    "mld_ma = np.ma.masked_array(mld, mask=(mask==0))\n",
    "co2_ma = np.ma.masked_array(co2, mask=(mask==0))\n",
    "\n",
    "lon_ma = np.ma.masked_array(lon_tiled, mask=(mask==0))\n",
    "lat_ma = np.ma.masked_array(lat_tiled, mask=(mask==0))"
   ]
  },
  {
   "cell_type": "markdown",
   "metadata": {},
   "source": [
    "## Driver data in large matrix and output"
   ]
  },
  {
   "cell_type": "code",
   "execution_count": 11,
   "metadata": {},
   "outputs": [
    {
     "name": "stdout",
     "output_type": "stream",
     "text": [
      "shape of driver: (10108800, 8)\n"
     ]
    }
   ],
   "source": [
    "### What is driving the model\n",
    "                                ### \"classic\" predictors\n",
    "driver = np.transpose(np.stack((sst_ma.flatten(),     # SST\n",
    "                                sss_ma.flatten(),     # SSS \n",
    "                                chl_ma.flatten(),     # Chl\n",
    "                                mld_ma.flatten(),     # MLD\n",
    "                                co2_ma.flatten(),     # atm. CO2\n",
    "                                \n",
    "                                ### Grid as predictors\n",
    "                                lon_ma.flatten(),  # Longitude\n",
    "                                lat_ma.flatten(),  # Latitude\n",
    "                                #time_tiled.flatten(), # time\n",
    "                                \n",
    "                                ### Biomes are one-hot encoded ###\n",
    "                                #biomes_one_hot_tiled[:,:,:,0].flatten(), # <-- This one is 1 where there is land\n",
    "                                #biomes_one_hot_tiled[:,:,:,1].flatten(),\n",
    "                                #biomes_one_hot_tiled[:,:,:,2].flatten(),\n",
    "                                #biomes_one_hot_tiled[:,:,:,3].flatten(),\n",
    "                                #biomes_one_hot_tiled[:,:,:,4].flatten(),\n",
    "                                #biomes_one_hot_tiled[:,:,:,5].flatten(),\n",
    "                                #biomes_one_hot_tiled[:,:,:,6].flatten(),\n",
    "                                #biomes_one_hot_tiled[:,:,:,7].flatten(),\n",
    "                                #biomes_one_hot_tiled[:,:,:,8].flatten(),\n",
    "                                #biomes_one_hot_tiled[:,:,:,9].flatten(),\n",
    "                                #biomes_one_hot_tiled[:,:,:,10].flatten(),\n",
    "                                #biomes_one_hot_tiled[:,:,:,11].flatten(),\n",
    "                                #biomes_one_hot_tiled[:,:,:,12].flatten(),\n",
    "                                #biomes_one_hot_tiled[:,:,:,13].flatten(),\n",
    "                                #biomes_one_hot_tiled[:,:,:,14].flatten(),\n",
    "                                #biomes_one_hot_tiled[:,:,:,15].flatten(),\n",
    "                                #biomes_one_hot_tiled[:,:,:,16].flatten(),\n",
    "                                #biomes_one_hot_tiled[:,:,:,17].flatten(),\n",
    "                                \n",
    "                                ### Output (what you are trying to predict)\n",
    "                                fco2_ma.flatten() # SOCAT fCO2\n",
    "                               ))) \n",
    "\n",
    "### What the true value is \n",
    "#true_value = fco2_ma.flatten()\n",
    "\n",
    "print('shape of driver: ' + str(driver.shape))\n",
    "#print('shape of true_value: ' + str(true_value.shape))"
   ]
  },
  {
   "cell_type": "markdown",
   "metadata": {},
   "source": [
    "## Remove rows with NaN and train/test split\n",
    "I am calling these driver_nn and true_value_nn"
   ]
  },
  {
   "cell_type": "code",
   "execution_count": 12,
   "metadata": {},
   "outputs": [
    {
     "data": {
      "text/html": [
       "<div>\n",
       "<style>\n",
       "    .dataframe thead tr:only-child th {\n",
       "        text-align: right;\n",
       "    }\n",
       "\n",
       "    .dataframe thead th {\n",
       "        text-align: left;\n",
       "    }\n",
       "\n",
       "    .dataframe tbody tr th {\n",
       "        vertical-align: top;\n",
       "    }\n",
       "</style>\n",
       "<table border=\"1\" class=\"dataframe\">\n",
       "  <thead>\n",
       "    <tr style=\"text-align: right;\">\n",
       "      <th></th>\n",
       "      <th>0</th>\n",
       "      <th>1</th>\n",
       "      <th>2</th>\n",
       "      <th>3</th>\n",
       "      <th>4</th>\n",
       "      <th>5</th>\n",
       "      <th>6</th>\n",
       "      <th>7</th>\n",
       "    </tr>\n",
       "  </thead>\n",
       "  <tbody>\n",
       "    <tr>\n",
       "      <th>4485</th>\n",
       "      <td>-1.79</td>\n",
       "      <td>34.004675</td>\n",
       "      <td>0.63170</td>\n",
       "      <td>20.346722</td>\n",
       "      <td>365.0734</td>\n",
       "      <td>165.5</td>\n",
       "      <td>-77.5</td>\n",
       "      <td>211.853287</td>\n",
       "    </tr>\n",
       "    <tr>\n",
       "      <th>4486</th>\n",
       "      <td>-1.79</td>\n",
       "      <td>34.000382</td>\n",
       "      <td>1.05912</td>\n",
       "      <td>18.216934</td>\n",
       "      <td>365.0734</td>\n",
       "      <td>166.5</td>\n",
       "      <td>-77.5</td>\n",
       "      <td>146.925980</td>\n",
       "    </tr>\n",
       "    <tr>\n",
       "      <th>4487</th>\n",
       "      <td>-1.79</td>\n",
       "      <td>33.951115</td>\n",
       "      <td>0.47567</td>\n",
       "      <td>15.844231</td>\n",
       "      <td>365.0734</td>\n",
       "      <td>167.5</td>\n",
       "      <td>-77.5</td>\n",
       "      <td>69.547241</td>\n",
       "    </tr>\n",
       "    <tr>\n",
       "      <th>4488</th>\n",
       "      <td>-1.79</td>\n",
       "      <td>33.890442</td>\n",
       "      <td>0.53423</td>\n",
       "      <td>13.237171</td>\n",
       "      <td>365.0734</td>\n",
       "      <td>168.5</td>\n",
       "      <td>-77.5</td>\n",
       "      <td>217.278625</td>\n",
       "    </tr>\n",
       "    <tr>\n",
       "      <th>4491</th>\n",
       "      <td>-1.79</td>\n",
       "      <td>33.939174</td>\n",
       "      <td>0.40530</td>\n",
       "      <td>14.088153</td>\n",
       "      <td>365.0734</td>\n",
       "      <td>171.5</td>\n",
       "      <td>-77.5</td>\n",
       "      <td>305.346130</td>\n",
       "    </tr>\n",
       "  </tbody>\n",
       "</table>\n",
       "</div>"
      ],
      "text/plain": [
       "         0          1        2          3         4      5     6           7\n",
       "4485 -1.79  34.004675  0.63170  20.346722  365.0734  165.5 -77.5  211.853287\n",
       "4486 -1.79  34.000382  1.05912  18.216934  365.0734  166.5 -77.5  146.925980\n",
       "4487 -1.79  33.951115  0.47567  15.844231  365.0734  167.5 -77.5   69.547241\n",
       "4488 -1.79  33.890442  0.53423  13.237171  365.0734  168.5 -77.5  217.278625\n",
       "4491 -1.79  33.939174  0.40530  14.088153  365.0734  171.5 -77.5  305.346130"
      ]
     },
     "execution_count": 12,
     "metadata": {},
     "output_type": "execute_result"
    }
   ],
   "source": [
    "df_driver = pd.DataFrame(driver).dropna(axis=0)\n",
    "#df_driver_dropna = df_driver.dropna(axis=0)\n",
    "df_driver.head()\n",
    "\n",
    "### if you want a specific biome\n",
    "# df_driver_biome = df_driver_dropna.loc[df_driver_dropna[8] == 1]\n",
    "# df_driver_biome.head()"
   ]
  },
  {
   "cell_type": "code",
   "execution_count": 13,
   "metadata": {},
   "outputs": [
    {
     "name": "stdout",
     "output_type": "stream",
     "text": [
      "shape of features  (113712, 7)\n",
      "shape of output  (113712,)\n"
     ]
    }
   ],
   "source": [
    "features = df_driver.iloc[:,0:7].as_matrix()\n",
    "output = df_driver.iloc[:,-1].as_matrix()\n",
    "print('shape of features ',features.shape)\n",
    "print('shape of output ',output.shape)"
   ]
  },
  {
   "cell_type": "markdown",
   "metadata": {},
   "source": [
    "## Remove extreme outliers"
   ]
  },
  {
   "cell_type": "code",
   "execution_count": 281,
   "metadata": {},
   "outputs": [
    {
     "data": {
      "text/plain": [
       "4485        211.853287\n",
       "4486        146.925980\n",
       "4487         69.547241\n",
       "4488        217.278625\n",
       "4491        305.346130\n",
       "4492        283.115051\n",
       "4493        269.453827\n",
       "4494        276.633698\n",
       "4495        274.948395\n",
       "4496        270.058716\n",
       "4497        277.225067\n",
       "4499        273.899536\n",
       "4500        242.508377\n",
       "4501        258.082336\n",
       "4502        234.389877\n",
       "4847         79.858307\n",
       "4848        167.151489\n",
       "4849        245.542191\n",
       "4850        251.666870\n",
       "4851        285.481537\n",
       "4852        282.233765\n",
       "4853        268.385895\n",
       "4854        275.526886\n",
       "4855        277.234619\n",
       "4856        264.494202\n",
       "4857        264.556763\n",
       "4860        269.496216\n",
       "5204        243.353622\n",
       "5205        245.002441\n",
       "5206        275.891174\n",
       "               ...    \n",
       "10089338    349.826477\n",
       "10089344    349.574432\n",
       "10089501    330.004883\n",
       "10089509    334.072510\n",
       "10089668    348.574249\n",
       "10089669    350.421570\n",
       "10089691    344.498871\n",
       "10089692    344.944000\n",
       "10089698    350.085388\n",
       "10089699    349.226288\n",
       "10089705    351.016144\n",
       "10089861    324.681793\n",
       "10089869    332.880249\n",
       "10090018    335.094849\n",
       "10090022    336.577332\n",
       "10090053    344.502319\n",
       "10090222    325.529968\n",
       "10090385    332.753632\n",
       "10090387    333.288391\n",
       "10090421    344.985413\n",
       "10090586    355.092773\n",
       "10090747    333.911072\n",
       "10090753    354.637878\n",
       "10090754    353.658325\n",
       "10090755    354.620850\n",
       "10090781    355.348755\n",
       "10091112    335.884003\n",
       "10091114    332.568939\n",
       "10091115    359.054474\n",
       "10091144    360.333496\n",
       "Name: 7, Length: 113712, dtype: float64"
      ]
     },
     "execution_count": 281,
     "metadata": {},
     "output_type": "execute_result"
    }
   ],
   "source": [
    "#inds, = np.where(output>900)\n",
    "#output[inds]\n",
    "\n",
    "#df_driver[df_driver[:,-1] > 1000]\n",
    "#df_driver\n",
    "#features=features.drop(features.index[inds])\n",
    "#features.index[inds]\n",
    "#output[inds]\n",
    "#features = df_driver.iloc[:,0:7].as_matrix()\n",
    "#output = df_driver.iloc[:,-1].as_matrix()\n",
    "#print('shape of features ',features.shape)\n",
    "#print('shape of output ',output.shape)"
   ]
  },
  {
   "cell_type": "code",
   "execution_count": 14,
   "metadata": {},
   "outputs": [
    {
     "name": "stdout",
     "output_type": "stream",
     "text": [
      "shape of X_train: (85284, 7)\n",
      "shape of X_test: (28428, 7)\n",
      "shape of y_train: (85284, 1)\n",
      "shape of y_test: (28428, 1)\n"
     ]
    }
   ],
   "source": [
    "X_train, X_test, y_train, y_test = train_test_split(features, output[:, np.newaxis], random_state=42)\n",
    "y_train = np.array(y_train)\n",
    "y_test =  np.array(y_test)\n",
    "X_train = np.array(X_train)\n",
    "X_test =  np.array(X_test)\n",
    "\n",
    "print('shape of X_train: ' + str(X_train.shape))\n",
    "print('shape of X_test: ' + str(X_test.shape))\n",
    "print('shape of y_train: ' + str(y_train.shape))\n",
    "print('shape of y_test: ' + str(y_test.shape))"
   ]
  },
  {
   "cell_type": "markdown",
   "metadata": {},
   "source": [
    "### Save train and test set for Nick"
   ]
  },
  {
   "cell_type": "code",
   "execution_count": 15,
   "metadata": {
    "collapsed": true
   },
   "outputs": [],
   "source": [
    "np.savetxt('predictors_train.txt', X = X_train, delimiter = ',')\n",
    "np.savetxt('fco2_train.txt', X = y_train, delimiter = ',')\n",
    "\n",
    "np.savetxt('predictors_test.txt', X = X_test, delimiter = ',')\n",
    "np.savetxt('fco2_test.txt', X = y_test, delimiter = ',')"
   ]
  },
  {
   "cell_type": "markdown",
   "metadata": {},
   "source": [
    "# Scale the data"
   ]
  },
  {
   "cell_type": "code",
   "execution_count": 16,
   "metadata": {},
   "outputs": [
    {
     "name": "stdout",
     "output_type": "stream",
     "text": [
      "-0.18894067383 0.993793625736\n",
      "0.000665771607821 0.0394258893565\n"
     ]
    }
   ],
   "source": [
    "X_train_scale = normalize(X_train, axis=1)\n",
    "y_train_scale, y_train_norm = normalize(y_train, axis=0, return_norm=True)\n",
    "\n",
    "X_test_scale = normalize(X_test, axis=1)\n",
    "y_test_scale, y_test_norm = normalize(y_test, axis=0, return_norm=True)\n",
    "\n",
    "print(np.min(X_train_scale), np.max(X_train_scale))\n",
    "print(np.min(y_train_scale), np.max(y_train_scale))"
   ]
  },
  {
   "cell_type": "code",
   "execution_count": 244,
   "metadata": {},
   "outputs": [
    {
     "data": {
      "text/plain": [
       "(array([   43,  2275, 10737, 30417, 37923, 38742]), array([0, 0, 0, 0, 0, 0]))"
      ]
     },
     "execution_count": 244,
     "metadata": {},
     "output_type": "execute_result"
    }
   ],
   "source": [
    "inds = np.where(y_train>900)\n",
    "inds"
   ]
  },
  {
   "cell_type": "markdown",
   "metadata": {},
   "source": [
    "\n",
    "# 2. Neural Network - tensorflow / keras API\n",
    "\n",
    "Keras is a high level API using tensorflow as a backend. I have found this be very well documented, simple to use, and fits my machine learning needs. Pure tensorflow is great, but not well documented and there are many API's that are all in development. I am not sure which one the community will support. I am in favor of keras.\n",
    "- Keras documentation: https://keras.io\n",
    "- tf.keras doc: https://www.tensorflow.org/api_docs/python/tf/keras\n",
    "- nice notebook: https://github.com/Hvass-Labs/TensorFlow-Tutorials/blob/master/03C_Keras_API.ipynb"
   ]
  },
  {
   "cell_type": "markdown",
   "metadata": {},
   "source": [
    "## Define architecture"
   ]
  },
  {
   "cell_type": "code",
   "execution_count": 234,
   "metadata": {},
   "outputs": [
    {
     "name": "stdout",
     "output_type": "stream",
     "text": [
      "_________________________________________________________________\n",
      "Layer (type)                 Output Shape              Param #   \n",
      "=================================================================\n",
      "dense_50 (Dense)             (None, 100)               800       \n",
      "_________________________________________________________________\n",
      "dense_51 (Dense)             (None, 50)                5050      \n",
      "_________________________________________________________________\n",
      "dense_52 (Dense)             (None, 1)                 51        \n",
      "=================================================================\n",
      "Total params: 5,901\n",
      "Trainable params: 5,901\n",
      "Non-trainable params: 0\n",
      "_________________________________________________________________\n"
     ]
    }
   ],
   "source": [
    "### Gets the number of features (just number columns in driver)\n",
    "n_features = np.shape(X_train_scale)[1]\n",
    "\n",
    "### Model architecture\n",
    "model = Sequential()\n",
    "model.add(Dense(100, input_shape=(n_features,), \n",
    "                activation='relu',\n",
    "#                kernel_regularizer=keras.regularizers.l2(0.0001),\n",
    "                use_bias=True))\n",
    "model.add(Dense(50, \n",
    "                activation='relu',\n",
    "#                kernel_regularizer=keras.regularizers.l2(0.0001),\n",
    "                use_bias=True))\n",
    "#model.add(Dropout(0.2))\n",
    "model.add(Dense(1, activation='linear'))\n",
    "\n",
    "### Show topogarphy\n",
    "model.summary()"
   ]
  },
  {
   "cell_type": "markdown",
   "metadata": {},
   "source": [
    "## Compile"
   ]
  },
  {
   "cell_type": "code",
   "execution_count": 235,
   "metadata": {},
   "outputs": [],
   "source": [
    "## Optimizer\n",
    "learning_rate = 1e-3\n",
    "optimizer = keras.optimizers.Adam(lr=learning_rate)\n",
    "\n",
    "### Compile the model\n",
    "model.compile(optimizer=optimizer, \n",
    "              loss='mse',\n",
    "              metrics=['mean_squared_error', 'mean_absolute_error', 'mean_absolute_percentage_error'])"
   ]
  },
  {
   "cell_type": "markdown",
   "metadata": {},
   "source": [
    "## Training / Validation"
   ]
  },
  {
   "cell_type": "code",
   "execution_count": 236,
   "metadata": {},
   "outputs": [
    {
     "name": "stdout",
     "output_type": "stream",
     "text": [
      "Train on 76755 samples, validate on 8529 samples\n",
      "Epoch 1/10\n",
      "76755/76755 [==============================]76755/76755 [==============================] - 3s 42us/step - loss: 16977.9822 - mean_squared_error: 16977.9822 - mean_absolute_error: 74.1902 - mean_absolute_percentage_error: 21.0714 - val_loss: 1353.8620 - val_mean_squared_error: 1353.8620 - val_mean_absolute_error: 26.9501 - val_mean_absolute_percentage_error: 7.9127\n",
      "\n",
      "Epoch 2/10\n",
      "76755/76755 [==============================]76755/76755 [==============================] - 3s 35us/step - loss: 1596.2016 - mean_squared_error: 1596.2016 - mean_absolute_error: 26.7565 - mean_absolute_percentage_error: 7.8397 - val_loss: 1275.0887 - val_mean_squared_error: 1275.0887 - val_mean_absolute_error: 25.8400 - val_mean_absolute_percentage_error: 7.5645\n",
      "\n",
      "Epoch 3/10\n",
      "76755/76755 [==============================]76755/76755 [==============================] - 3s 35us/step - loss: 1520.3429 - mean_squared_error: 1520.3429 - mean_absolute_error: 25.9164 - mean_absolute_percentage_error: 7.5872 - val_loss: 1198.1837 - val_mean_squared_error: 1198.1837 - val_mean_absolute_error: 24.9529 - val_mean_absolute_percentage_error: 7.2852\n",
      "\n",
      "Epoch 4/10\n",
      "76755/76755 [==============================]76755/76755 [==============================] - 3s 39us/step - loss: 1448.8847 - mean_squared_error: 1448.8847 - mean_absolute_error: 25.1420 - mean_absolute_percentage_error: 7.3514 - val_loss: 1141.1907 - val_mean_squared_error: 1141.1907 - val_mean_absolute_error: 24.1841 - val_mean_absolute_percentage_error: 7.0380\n",
      "\n",
      "Epoch 5/10\n",
      "76755/76755 [==============================]76755/76755 [==============================] - 3s 40us/step - loss: 1396.9948 - mean_squared_error: 1396.9948 - mean_absolute_error: 24.5064 - mean_absolute_percentage_error: 7.1589 - val_loss: 1105.0879 - val_mean_squared_error: 1105.0879 - val_mean_absolute_error: 23.6185 - val_mean_absolute_percentage_error: 6.8423\n",
      "\n",
      "Epoch 6/10\n",
      "76755/76755 [==============================]76755/76755 [==============================] - 3s 43us/step - loss: 1359.5746 - mean_squared_error: 1359.5746 - mean_absolute_error: 24.0440 - mean_absolute_percentage_error: 7.0169 - val_loss: 1065.5830 - val_mean_squared_error: 1065.5830 - val_mean_absolute_error: 23.3691 - val_mean_absolute_percentage_error: 6.8375\n",
      "\n",
      "Epoch 7/10\n",
      "76755/76755 [==============================]76755/76755 [==============================] - 3s 43us/step - loss: 1328.7968 - mean_squared_error: 1328.7968 - mean_absolute_error: 23.6484 - mean_absolute_percentage_error: 6.8939 - val_loss: 1041.6794 - val_mean_squared_error: 1041.6794 - val_mean_absolute_error: 22.8021 - val_mean_absolute_percentage_error: 6.6072\n",
      "\n",
      "Epoch 8/10\n",
      "76755/76755 [==============================]76755/76755 [==============================] - 3s 45us/step - loss: 1301.4938 - mean_squared_error: 1301.4938 - mean_absolute_error: 23.3117 - mean_absolute_percentage_error: 6.7848 - val_loss: 1046.4854 - val_mean_squared_error: 1046.4854 - val_mean_absolute_error: 22.7373 - val_mean_absolute_percentage_error: 6.5217\n",
      "\n",
      "Epoch 9/10\n",
      "76755/76755 [==============================]76755/76755 [==============================] - 3s 46us/step - loss: 1281.3651 - mean_squared_error: 1281.3651 - mean_absolute_error: 23.0680 - mean_absolute_percentage_error: 6.7067 - val_loss: 998.9971 - val_mean_squared_error: 998.9971 - val_mean_absolute_error: 22.5855 - val_mean_absolute_percentage_error: 6.5819\n",
      "\n",
      "Epoch 10/10\n",
      "76755/76755 [==============================]76755/76755 [==============================] - 3s 37us/step - loss: 1267.2974 - mean_squared_error: 1267.2974 - mean_absolute_error: 22.8877 - mean_absolute_percentage_error: 6.6482 - val_loss: 996.0968 - val_mean_squared_error: 996.0968 - val_mean_absolute_error: 22.2446 - val_mean_absolute_percentage_error: 6.4200\n",
      "\n"
     ]
    }
   ],
   "source": [
    "history_callback = model.fit(X_train_scale, \n",
    "                             y_train, \n",
    "                             validation_split=0.1,\n",
    "                             epochs=10,\n",
    "                             batch_size=50,\n",
    "                             verbose=1)"
   ]
  },
  {
   "cell_type": "code",
   "execution_count": 229,
   "metadata": {},
   "outputs": [
    {
     "data": {
      "text/plain": [
       "[<matplotlib.lines.Line2D at 0x1c894c0d68>]"
      ]
     },
     "execution_count": 229,
     "metadata": {},
     "output_type": "execute_result"
    },
    {
     "data": {
      "image/png": "[encoded data removed]",
      "text/plain": [
       "<matplotlib.figure.Figure at 0x1c88ed9470>"
      ]
     },
     "metadata": {},
     "output_type": "display_data"
    }
   ],
   "source": [
    "plt.plot(history_callback.history['mean_squared_error'], color='k')\n",
    "plt.plot(history_callback.history['val_mean_squared_error'], color='r')"
   ]
  },
  {
   "cell_type": "code",
   "execution_count": 230,
   "metadata": {},
   "outputs": [
    {
     "name": "stdout",
     "output_type": "stream",
     "text": [
      "1407.00209331\n",
      "1074.53721294\n"
     ]
    }
   ],
   "source": [
    "print(history_callback.history['mean_squared_error'][-1])\n",
    "print(history_callback.history['val_mean_squared_error'][-1])"
   ]
  },
  {
   "cell_type": "markdown",
   "metadata": {},
   "source": [
    "## Evaluation"
   ]
  },
  {
   "cell_type": "code",
   "execution_count": 231,
   "metadata": {},
   "outputs": [
    {
     "name": "stdout",
     "output_type": "stream",
     "text": [
      "28428/28428 [==============================]28428/28428 [==============================] - 1s 28us/step\n",
      "\n"
     ]
    }
   ],
   "source": [
    "result = model.evaluate(x=X_test_scale,\n",
    "                        y=y_test)"
   ]
  },
  {
   "cell_type": "code",
   "execution_count": 232,
   "metadata": {},
   "outputs": [
    {
     "name": "stdout",
     "output_type": "stream",
     "text": [
      "loss 1104.8102349\n",
      "mean_squared_error 1104.8102349\n",
      "mean_error  33.2386858178\n",
      "mean_absolute_error 23.5870205914\n",
      "mean_absolute_percentage_error 6.84115188864\n"
     ]
    }
   ],
   "source": [
    "for name, value in zip(model.metrics_names, result):\n",
    "    print(name, value)\n",
    "    if name=='mean_squared_error':\n",
    "        print('mean_error ',np.sqrt(value))"
   ]
  },
  {
   "cell_type": "markdown",
   "metadata": {},
   "source": [
    "## Cross plot predictions and actual"
   ]
  },
  {
   "cell_type": "code",
   "execution_count": 193,
   "metadata": {},
   "outputs": [
    {
     "name": "stdout",
     "output_type": "stream",
     "text": [
      "28428/28428 [==============================]28428/28428 [==============================] - 1s 18us/step\n",
      "\n"
     ]
    }
   ],
   "source": [
    "pred = model.predict(X_test_scale, verbose=1)"
   ]
  },
  {
   "cell_type": "code",
   "execution_count": 194,
   "metadata": {},
   "outputs": [
    {
     "data": {
      "image/png": "[encoded data removed]",
      "text/plain": [
       "<matplotlib.figure.Figure at 0x1c8a7fc908>"
      ]
     },
     "metadata": {},
     "output_type": "display_data"
    }
   ],
   "source": [
    "limit=[np.floor(np.min(y_test)), np.ceil(np.max(y_test))]\n",
    "plt.scatter(y_test, pred)\n",
    "plt.plot([200, 500],[200, 500],color='k')\n",
    "#plt.xlim(limit)\n",
    "#plt.ylim(limit)\n",
    "plt.show()"
   ]
  },
  {
   "cell_type": "code",
   "execution_count": null,
   "metadata": {
    "collapsed": true
   },
   "outputs": [],
   "source": []
  },
  {
   "cell_type": "code",
   "execution_count": null,
   "metadata": {
    "collapsed": true
   },
   "outputs": [],
   "source": []
  }
 ],
 "metadata": {
  "kernelspec": {
   "display_name": "Python3.6",
   "language": "python",
   "name": "root"
  },
  "language_info": {
   "codemirror_mode": {
    "name": "ipython",
    "version": 3
   },
   "file_extension": ".py",
   "mimetype": "text/x-python",
   "name": "python",
   "nbconvert_exporter": "python",
   "pygments_lexer": "ipython3",
   "version": "3.6.3"
  }
 },
 "nbformat": 4,
 "nbformat_minor": 2
}
