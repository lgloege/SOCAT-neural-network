{
 "cells": [
  {
   "cell_type": "markdown",
   "metadata": {},
   "source": [
    "# Tensorflow regression example"
   ]
  },
  {
   "cell_type": "code",
   "execution_count": 1,
   "metadata": {
    "collapsed": true
   },
   "outputs": [],
   "source": [
    "import tensorflow as tf\n",
    "import numpy as np\n",
    "import uuid"
   ]
  },
  {
   "cell_type": "code",
   "execution_count": null,
   "metadata": {
    "collapsed": true
   },
   "outputs": [],
   "source": [
    "x = tf.placeholder(shape=[None, 3], dtype=tf.float32)\n",
    "nn = tf.layers.dense(x, 3, activation=tf.nn.sigmoid)\n",
    "nn = tf.layers.dense(nn, 5, activation=tf.nn.sigmoid)\n",
    "encoded = tf.layers.dense(nn, 2, activation=tf.nn.sigmoid)\n",
    "nn = tf.layers.dense(encoded, 5, activation=tf.nn.sigmoid)\n",
    "nn = tf.layers.dense(nn, 3, activation=tf.nn.sigmoid)"
   ]
  },
  {
   "cell_type": "code",
   "execution_count": null,
   "metadata": {
    "collapsed": true
   },
   "outputs": [],
   "source": [
    "cost = tf.reduce_mean((nn - x)**2)\n",
    "optimizer = tf.train.RMSPropOptimizer(0.01).minimize(cost)\n",
    "init = tf.global_variables_initializer()"
   ]
  },
  {
   "cell_type": "code",
   "execution_count": null,
   "metadata": {
    "collapsed": true
   },
   "outputs": [],
   "source": [
    "tf.summary.scalar(\"cost\", cost)\n",
    "merged_summary_op = tf.summary.merge_all()"
   ]
  },
  {
   "cell_type": "code",
   "execution_count": null,
   "metadata": {
    "collapsed": true
   },
   "outputs": [],
   "source": [
    "with tf.Session() as sess:\n",
    "    sess.run(init)\n",
    "    uniq_id = \"/tmp/tensorboard-layers-api/\" + uuid.uuid1().__str__()[:6]\n",
    "    summary_writer = tf.summary.FileWriter(uniq_id, graph=tf.get_default_graph())\n",
    "    x_vals = np.random.normal(0, 1, (10000, 3))\n",
    "    for step in range(10000):\n",
    "        _, val, summary = sess.run([optimizer, cost, merged_summary_op],\n",
    "                                   feed_dict={x: x_vals})\n",
    "        if step % 5 == 0:\n",
    "            print(\"step: {}, value: {}\".format(step, val))\n",
    "            summary_writer.add_summary(summary, step)"
   ]
  }
 ],
 "metadata": {
  "kernelspec": {
   "display_name": "Python 3",
   "language": "python",
   "name": "python3"
  },
  "language_info": {
   "codemirror_mode": {
    "name": "ipython",
    "version": 3
   },
   "file_extension": ".py",
   "mimetype": "text/x-python",
   "name": "python",
   "nbconvert_exporter": "python",
   "pygments_lexer": "ipython3",
   "version": "3.5.4"
  }
 },
 "nbformat": 4,
 "nbformat_minor": 2
}
