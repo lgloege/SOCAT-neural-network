{
 "cells": [
  {
   "cell_type": "code",
   "execution_count": 6,
   "metadata": {
    "collapsed": true
   },
   "outputs": [],
   "source": [
    "import numpy as np\n",
    "import tensorflow as tf"
   ]
  },
  {
   "cell_type": "code",
   "execution_count": 9,
   "metadata": {},
   "outputs": [],
   "source": [
    "b = tf.Variable(tf.zeros((100,)))\n",
    "W = tf.Variable(tf.random_uniform((784,100),-1,1))\n",
    "            \n",
    "x = tf.placeholder(tf.float32, (100,784))\n",
    "                \n",
    "h = tf.nn.relu(tf.matmul(x,W) + b)\n",
    "\n",
    "prediction = tf.nn.softmax()\n",
    "label = tf.placeholder(tf.float32, [100,1])\n",
    "\n",
    "cross_entropy = -tf.reduce_sum(label * tf.log(prediction), axis=1)\n",
    "loss = tf.train.GradientDescentOptimizer(0.5).minimize(cross_entropy)\n",
    "\n",
    "tf.nn.xw_plus_b(\n",
    "    x,\n",
    "    weights,\n",
    "    biases,\n",
    "    name=None\n",
    ")"
   ]
  },
  {
   "cell_type": "code",
   "execution_count": 14,
   "metadata": {},
   "outputs": [
    {
     "name": "stdout",
     "output_type": "stream",
     "text": [
      "(100, 100)\n"
     ]
    }
   ],
   "source": [
    "with tf.Session() as sess:\n",
    "    ### Initialize all variables in graph \n",
    "    sess.run(tf.initialize_all_variables())\n",
    "    sess.run(h, {x: np.random.random((100,784))})\n",
    "    \n",
    "    for i in range(1000):\n",
    "        batch_x, batch_label = data.next_batch()\n",
    "        sess.run(train_step, feed_dict={x: batch_x, \n",
    "                                        label: batch_label})"
   ]
  },
  {
   "cell_type": "code",
   "execution_count": null,
   "metadata": {
    "collapsed": true
   },
   "outputs": [],
   "source": []
  }
 ],
 "metadata": {
  "kernelspec": {
   "display_name": "Python3.6",
   "language": "python",
   "name": "root"
  },
  "language_info": {
   "codemirror_mode": {
    "name": "ipython",
    "version": 3
   },
   "file_extension": ".py",
   "mimetype": "text/x-python",
   "name": "python",
   "nbconvert_exporter": "python",
   "pygments_lexer": "ipython3",
   "version": "3.6.3"
  }
 },
 "nbformat": 4,
 "nbformat_minor": 2
}
