{
 "cells": [
  {
   "cell_type": "markdown",
   "metadata": {},
   "source": [
    "#  SOCAT neural-network : TensorFlow\n",
    "\n",
    "This notebook contains all the code to run neural network using Tensorflow\n",
    "Driver data includes: SST, SSS, MLD, CHL, CO2 and we are predicting fCO2\n",
    "\n",
    "We are starting with monthly gridded observations 1998 - 2010"
   ]
  },
  {
   "cell_type": "code",
   "execution_count": 2,
   "metadata": {},
   "outputs": [
    {
     "name": "stdout",
     "output_type": "stream",
     "text": [
      "[name: \"/device:CPU:0\"\n",
      "device_type: \"CPU\"\n",
      "memory_limit: 268435456\n",
      "locality {\n",
      "}\n",
      "incarnation: 2753921689641128354\n",
      "]\n"
     ]
    }
   ],
   "source": [
    "import tensorflow as tf\n",
    "import numpy as np\n",
    "import xarray as xr\n",
    "import pandas as pd\n",
    "import matplotlib.pyplot as plt\n",
    "from sklearn.model_selection import train_test_split\n",
    "from sklearn.preprocessing import scale\n",
    "from sklearn.preprocessing import robust_scale\n",
    "from sklearn.preprocessing import normalize\n",
    "from sklearn.preprocessing import minmax_scale\n",
    "import os\n",
    "\n",
    "### Print if using CPU or GPU\n",
    "from tensorflow.python.client import device_lib\n",
    "print(device_lib.list_local_devices())\n",
    "\n",
    "%matplotlib inline"
   ]
  },
  {
   "cell_type": "code",
   "execution_count": 1,
   "metadata": {},
   "outputs": [
    {
     "ename": "NameError",
     "evalue": "name 'tf' is not defined",
     "output_type": "error",
     "traceback": [
      "\u001b[0;31m---------------------------------------------------------------------------\u001b[0m",
      "\u001b[0;31mNameError\u001b[0m                                 Traceback (most recent call last)",
      "\u001b[0;32m<ipython-input-1-678be4e04bd7>\u001b[0m in \u001b[0;36m<module>\u001b[0;34m()\u001b[0m\n\u001b[0;32m----> 1\u001b[0;31m \u001b[0mtf\u001b[0m\u001b[0;34m.\u001b[0m\u001b[0m__version__\u001b[0m\u001b[0;34m\u001b[0m\u001b[0m\n\u001b[0m",
      "\u001b[0;31mNameError\u001b[0m: name 'tf' is not defined"
     ]
    }
   ],
   "source": [
    "tf.__version__"
   ]
  },
  {
   "cell_type": "markdown",
   "metadata": {},
   "source": [
    "### All you need to change is data_dir"
   ]
  },
  {
   "cell_type": "code",
   "execution_count": 2,
   "metadata": {},
   "outputs": [
    {
     "data": {
      "text/plain": [
       "['SOCATv5_mask_199801-201012.nc',\n",
       " 'SALT_1x1_199801-201012.nc',\n",
       " 'MXLDEPTH_1x1_199801-201012.nc',\n",
       " 'co2_avg_199801-201012.nc',\n",
       " 'sst_1x1_199801-201012.nc',\n",
       " 'biomes.nc',\n",
       " 'SOCATv5_gridded_monthly_199801-201012.nc',\n",
       " 'Chl_1x1_199801-201012.nc']"
      ]
     },
     "execution_count": 2,
     "metadata": {},
     "output_type": "execute_result"
    }
   ],
   "source": [
    "data_dir='/Users/gloege/Documents/Projects/SOCAT-neural-network/data/data_driver_fixed/'\n",
    "os.listdir(data_dir)"
   ]
  },
  {
   "cell_type": "markdown",
   "metadata": {},
   "source": [
    "# 1. Get the data and sample like it's SOCAT"
   ]
  },
  {
   "cell_type": "code",
   "execution_count": 3,
   "metadata": {
    "collapsed": true
   },
   "outputs": [],
   "source": [
    "### SOCAT data paths\n",
    "fl_mask = data_dir + 'SOCATv5_mask_199801-201012.nc'\n",
    "fl_socat = data_dir + 'SOCATv5_gridded_monthly_199801-201012.nc'\n",
    "\n",
    "### Driver data paths\n",
    "fl_sss = data_dir + 'SALT_1x1_199801-201012.nc'\n",
    "fl_mld = data_dir + 'MXLDEPTH_1x1_199801-201012.nc'\n",
    "fl_co2 = data_dir + 'co2_avg_199801-201012.nc'\n",
    "fl_sst = data_dir + 'sst_1x1_199801-201012.nc'\n",
    "fl_chl = data_dir + 'Chl_1x1_199801-201012.nc'\n",
    "\n",
    "### biomes\n",
    "fl_biomes = data_dir + 'biomes.nc'"
   ]
  },
  {
   "cell_type": "code",
   "execution_count": 4,
   "metadata": {
    "collapsed": true
   },
   "outputs": [],
   "source": [
    "### SOCAT data \n",
    "ds_mask = xr.open_dataset(fl_mask)\n",
    "ds_socat = xr.open_dataset(fl_socat)\n",
    "\n",
    "### Driver data\n",
    "ds_sss = xr.open_dataset(fl_sss)\n",
    "ds_mld = xr.open_dataset(fl_mld)\n",
    "ds_co2 = xr.open_dataset(fl_co2)\n",
    "ds_sst = xr.open_dataset(fl_sst)\n",
    "ds_chl = xr.open_dataset(fl_chl)\n",
    "\n",
    "### Biomes\n",
    "ds_biomes = xr.open_dataset(fl_biomes)"
   ]
  },
  {
   "cell_type": "code",
   "execution_count": 5,
   "metadata": {},
   "outputs": [
    {
     "name": "stdout",
     "output_type": "stream",
     "text": [
      "Make sure all same dimensions and lon starts at 0\n",
      "(156, 180, 360) 0.5\n",
      "(156, 180, 360) 0.5\n",
      "(156, 180, 360) 0.5\n",
      "(156, 180, 360) 0.5\n",
      "(156, 180, 360) 0.5\n",
      "(156, 180, 360) 0.5\n",
      "(156,)\n"
     ]
    }
   ],
   "source": [
    "### Make sure all the same dimensions\n",
    "print('Make sure all same dimensions and lon starts at 0')\n",
    "print(ds_mask['socat_mask'].shape, ds_mask['xlon'].values[0])\n",
    "print(ds_socat['FCO2_AVE_UNWTD'].shape, ds_socat['xlon'].values[0])\n",
    "print(ds_sss['SALT'].shape, ds_sss['tlon'].values[0])\n",
    "print(ds_sst['sst'].shape, ds_sst['tlon'].values[0])\n",
    "print(ds_chl['Chl'].shape, ds_chl['tlon'].values[0])\n",
    "print(ds_mld['MXLDEPTH'].shape, ds_mld['tlon'].values[0])\n",
    "print(ds_co2['co2'].shape) \n"
   ]
  },
  {
   "cell_type": "code",
   "execution_count": 6,
   "metadata": {},
   "outputs": [
    {
     "name": "stdout",
     "output_type": "stream",
     "text": [
      "The shape of CO2 is now : (156, 180, 360)\n"
     ]
    }
   ],
   "source": [
    "### Grid\n",
    "lon = ds_socat['xlon']\n",
    "lat = ds_socat['ylat']\n",
    "time = ds_socat['tmnth']\n",
    "\n",
    "### Data\n",
    "mask = ds_mask['socat_mask'].values\n",
    "fco2 = ds_socat['FCO2_AVE_UNWTD'].values\n",
    "sss = ds_sss['SALT'].values\n",
    "sst = ds_sst['sst'].values\n",
    "chl = ds_chl['Chl'].values\n",
    "mld = ds_mld['MXLDEPTH'].values\n",
    "\n",
    "### This tiles CO2 so same shape as the others.\n",
    "co2 = np.tile(ds_co2['co2'].values[:, np.newaxis, np.newaxis],(1,180,360))\n",
    "\n",
    "### Show me the shape of co2\n",
    "print('The shape of CO2 is now : ' + str(co2.shape))"
   ]
  },
  {
   "cell_type": "markdown",
   "metadata": {},
   "source": [
    "## One-hot encode the biomes"
   ]
  },
  {
   "cell_type": "markdown",
   "metadata": {},
   "source": [
    "![mean_biomes](https://doi.pangaea.de/10013/epic.42948.d004)"
   ]
  },
  {
   "cell_type": "code",
   "execution_count": 7,
   "metadata": {},
   "outputs": [
    {
     "name": "stdout",
     "output_type": "stream",
     "text": [
      "(156, 180, 360, 18)\n"
     ]
    },
    {
     "data": {
      "text/plain": [
       "<matplotlib.collections.PolyCollection at 0x1c465802e8>"
      ]
     },
     "execution_count": 7,
     "metadata": {},
     "output_type": "execute_result"
    },
    {
     "data": {
      "image/png": "[encoded data removed]",
      "text/plain": [
       "<matplotlib.figure.Figure at 0x1c24693550>"
      ]
     },
     "metadata": {},
     "output_type": "display_data"
    }
   ],
   "source": [
    "### biomes\n",
    "fl_biomes = data_dir + 'biomes.nc'\n",
    "\n",
    "### Get Mean biomes and make lon 0-360\n",
    "mean_biomes = np.swapaxes(ds_biomes['MeanBiomes'].roll(lon=-180),0,1).values\n",
    "\n",
    "### biomes_tiled\n",
    "biomes_tiled = np.tile(mean_biomes[np.newaxis, :, :],(len(time),1, 1))\n",
    "\n",
    "### Replace nans with zero\n",
    "biomes_land = np.isnan(mean_biomes)\n",
    "mean_biomes[biomes_land] = 0\n",
    "\n",
    "### Use tensorflow to one-hot encode\n",
    "with tf.Session() as sess:\n",
    "    biomes_one_hot = sess.run(tf.one_hot(mean_biomes,18))\n",
    "\n",
    "### Tile biomes_one_hot\n",
    "biomes_one_hot_tiled = np.tile(biomes_one_hot[np.newaxis, :, :, :],(len(time),1, 1, 1))\n",
    "\n",
    "### plot one of the biomes\n",
    "print(biomes_one_hot_tiled.shape)\n",
    "plt.pcolor(lon,lat,biomes_one_hot[:,:,4])"
   ]
  },
  {
   "cell_type": "markdown",
   "metadata": {},
   "source": [
    "## Tile lat lon and time"
   ]
  },
  {
   "cell_type": "code",
   "execution_count": 8,
   "metadata": {
    "collapsed": true
   },
   "outputs": [],
   "source": [
    "### Define a meshgrid from lon and lat\n",
    "lon_mesh, lat_mesh = np.meshgrid(lon,lat)\n",
    "\n",
    "### Tile the meshgrid to the number of time steps\n",
    "lat_tiled = np.tile(lat_mesh[np.newaxis, :, :],(len(time),1, 1))\n",
    "lon_tiled = np.tile(lon_mesh[np.newaxis, :, :],(len(time),1, 1))\n",
    "\n",
    "### Tile time\n",
    "time_tiled = np.tile(time.values[:, np.newaxis, np.newaxis],(1,180,360))\n",
    "#time_tiled.shape"
   ]
  },
  {
   "cell_type": "markdown",
   "metadata": {},
   "source": [
    "## Maximum of each variable\n",
    "I am taking the max of the unsampled (i.e. not sampled like SOCAT) and dividing this by the vector to normalize it between 0 and 1\n",
    "\n",
    "This may not be the best way to go, so I commented these lines out"
   ]
  },
  {
   "cell_type": "code",
   "execution_count": 9,
   "metadata": {
    "collapsed": true
   },
   "outputs": [],
   "source": [
    "#fco2_max = np.nanmax(fco2)\n",
    "\n",
    "### drivers\n",
    "#sss_max = np.nanmax(sss)\n",
    "#sst_max = np.nanmax(sst)\n",
    "#chl_max = np.nanmax(chl)\n",
    "#mld_max = np.nanmax(mld)\n",
    "#co2_max = np.nanmax(co2)\n",
    "\n",
    "#print('max sss ' + str(sss_max))\n",
    "#print('max sst ' + str(sst_max))\n",
    "#print('max chl ' + str(chl_max))\n",
    "#print('max mld ' + str(mld_max))\n",
    "#print('max co2 ' + str(co2_max))"
   ]
  },
  {
   "cell_type": "markdown",
   "metadata": {},
   "source": [
    "## Mask the data like it is SOCAT"
   ]
  },
  {
   "cell_type": "code",
   "execution_count": 9,
   "metadata": {
    "collapsed": true
   },
   "outputs": [],
   "source": [
    "fco2_ma = np.ma.masked_array(fco2, mask=(mask==0))\n",
    "\n",
    "sst_ma = np.ma.masked_array(sst, mask=(mask==0))\n",
    "sss_ma = np.ma.masked_array(sss, mask=(mask==0))\n",
    "chl_ma = np.ma.masked_array(chl, mask=(mask==0))\n",
    "mld_ma = np.ma.masked_array(mld, mask=(mask==0))\n",
    "co2_ma = np.ma.masked_array(co2, mask=(mask==0))"
   ]
  },
  {
   "cell_type": "code",
   "execution_count": 11,
   "metadata": {
    "collapsed": true
   },
   "outputs": [],
   "source": [
    "#fco2_ma = np.ma.masked_array(fco2_socat, mask=biomes_mask * np.ones(np.shape(fco2)[0])[:, None, None])\n",
    "\n",
    "#sst_ma = np.ma.masked_array(sst_socat, mask=biomes_mask * np.ones(np.shape(sst)[0])[:, None, None])\n",
    "#sss_ma = np.ma.masked_array(sss_socat, mask=biomes_mask * np.ones(np.shape(sss)[0])[:, None, None])\n",
    "#chl_ma = np.ma.masked_array(chl_socat, mask=biomes_mask * np.ones(np.shape(chl)[0])[:, None, None])\n",
    "#mld_ma = np.ma.masked_array(mld_socat, mask=biomes_mask * np.ones(np.shape(mld)[0])[:, None, None])\n",
    "#co2_ma = np.ma.masked_array(co2_socat, mask=biomes_mask * np.ones(np.shape(co2)[0])[:, None, None])\n",
    "\n",
    "#plt.pcolor(lon,lat,sst_ma[100,:,:])"
   ]
  },
  {
   "cell_type": "markdown",
   "metadata": {},
   "source": [
    "## Driver data in large matrix and output"
   ]
  },
  {
   "cell_type": "code",
   "execution_count": 10,
   "metadata": {},
   "outputs": [
    {
     "name": "stdout",
     "output_type": "stream",
     "text": [
      "shape of driver: (10108800, 23)\n"
     ]
    }
   ],
   "source": [
    "### What is driving the model\n",
    "                                ### \"classic\" predictors\n",
    "driver = np.transpose(np.stack((sst_ma.flatten(),     # SST\n",
    "                                sss_ma.flatten(),     # SSS \n",
    "                                chl_ma.flatten(),     # Chl\n",
    "                                mld_ma.flatten(),     # MLD\n",
    "                                co2_ma.flatten(),     # atm. CO2\n",
    "                                \n",
    "                                ### Grid as predictors\n",
    "                                #lon_tiled.flatten(),  # Longitude\n",
    "                                #lat_tiled.flatten(),  # Latitude\n",
    "                                #time_tiled.flatten(), # time\n",
    "                                \n",
    "                                ### Biomes are one-hot encoded ###\n",
    "                                #biomes_one_hot_tiled[:,:,:,0].flatten(), # <-- This one is 1 where there is land\n",
    "                                biomes_one_hot_tiled[:,:,:,1].flatten(),\n",
    "                                biomes_one_hot_tiled[:,:,:,2].flatten(),\n",
    "                                biomes_one_hot_tiled[:,:,:,3].flatten(),\n",
    "                                biomes_one_hot_tiled[:,:,:,4].flatten(),\n",
    "                                biomes_one_hot_tiled[:,:,:,5].flatten(),\n",
    "                                biomes_one_hot_tiled[:,:,:,6].flatten(),\n",
    "                                biomes_one_hot_tiled[:,:,:,7].flatten(),\n",
    "                                biomes_one_hot_tiled[:,:,:,8].flatten(),\n",
    "                                biomes_one_hot_tiled[:,:,:,9].flatten(),\n",
    "                                biomes_one_hot_tiled[:,:,:,10].flatten(),\n",
    "                                biomes_one_hot_tiled[:,:,:,11].flatten(),\n",
    "                                biomes_one_hot_tiled[:,:,:,12].flatten(),\n",
    "                                biomes_one_hot_tiled[:,:,:,13].flatten(),\n",
    "                                biomes_one_hot_tiled[:,:,:,14].flatten(),\n",
    "                                biomes_one_hot_tiled[:,:,:,15].flatten(),\n",
    "                                biomes_one_hot_tiled[:,:,:,16].flatten(),\n",
    "                                biomes_one_hot_tiled[:,:,:,17].flatten(),\n",
    "                                \n",
    "                                ### Output (what you are trying to predict)\n",
    "                                fco2_ma.flatten()\n",
    "                               )))\n",
    "\n",
    "### What the true value is \n",
    "#true_value = fco2_ma.flatten()\n",
    "\n",
    "print('shape of driver: ' + str(driver.shape))\n",
    "#print('shape of true_value: ' + str(true_value.shape))"
   ]
  },
  {
   "cell_type": "markdown",
   "metadata": {},
   "source": [
    "## Remove rows with NaN and train/test split\n",
    "I am calling these driver_nn and true_value_nn"
   ]
  },
  {
   "cell_type": "code",
   "execution_count": 13,
   "metadata": {
    "collapsed": true
   },
   "outputs": [],
   "source": [
    "#nan_mask=(~np.isnan(driver).any(axis=1)) & (~np.isnan(true_value).any(axis=1))\n",
    "#driver_nn = driver[nan_mask]\n",
    "#true_value_nn = true_value[nan_mask]\n",
    "#print('shape of driver_nn: ' + str(driver_nn.shape))\n",
    "#print('shape of true_value_nn: ' + str(true_value_nn.shape))"
   ]
  },
  {
   "cell_type": "code",
   "execution_count": 13,
   "metadata": {},
   "outputs": [
    {
     "data": {
      "text/html": [
       "<div>\n",
       "<style>\n",
       "    .dataframe thead tr:only-child th {\n",
       "        text-align: right;\n",
       "    }\n",
       "\n",
       "    .dataframe thead th {\n",
       "        text-align: left;\n",
       "    }\n",
       "\n",
       "    .dataframe tbody tr th {\n",
       "        vertical-align: top;\n",
       "    }\n",
       "</style>\n",
       "<table border=\"1\" class=\"dataframe\">\n",
       "  <thead>\n",
       "    <tr style=\"text-align: right;\">\n",
       "      <th></th>\n",
       "      <th>0</th>\n",
       "      <th>1</th>\n",
       "      <th>2</th>\n",
       "      <th>3</th>\n",
       "      <th>4</th>\n",
       "      <th>5</th>\n",
       "      <th>6</th>\n",
       "      <th>7</th>\n",
       "      <th>8</th>\n",
       "      <th>9</th>\n",
       "      <th>...</th>\n",
       "      <th>13</th>\n",
       "      <th>14</th>\n",
       "      <th>15</th>\n",
       "      <th>16</th>\n",
       "      <th>17</th>\n",
       "      <th>18</th>\n",
       "      <th>19</th>\n",
       "      <th>20</th>\n",
       "      <th>21</th>\n",
       "      <th>22</th>\n",
       "    </tr>\n",
       "  </thead>\n",
       "  <tbody>\n",
       "    <tr>\n",
       "      <th>34015</th>\n",
       "      <td>28.930000</td>\n",
       "      <td>34.513330</td>\n",
       "      <td>0.11705</td>\n",
       "      <td>59.761087</td>\n",
       "      <td>365.0734</td>\n",
       "      <td>0.0</td>\n",
       "      <td>0.0</td>\n",
       "      <td>0.0</td>\n",
       "      <td>1.0</td>\n",
       "      <td>0.0</td>\n",
       "      <td>...</td>\n",
       "      <td>0.0</td>\n",
       "      <td>0.0</td>\n",
       "      <td>0.0</td>\n",
       "      <td>0.0</td>\n",
       "      <td>0.0</td>\n",
       "      <td>0.0</td>\n",
       "      <td>0.0</td>\n",
       "      <td>0.0</td>\n",
       "      <td>0.0</td>\n",
       "      <td>361.893005</td>\n",
       "    </tr>\n",
       "    <tr>\n",
       "      <th>34375</th>\n",
       "      <td>29.119999</td>\n",
       "      <td>34.479020</td>\n",
       "      <td>0.10873</td>\n",
       "      <td>54.754461</td>\n",
       "      <td>365.0734</td>\n",
       "      <td>0.0</td>\n",
       "      <td>0.0</td>\n",
       "      <td>0.0</td>\n",
       "      <td>1.0</td>\n",
       "      <td>0.0</td>\n",
       "      <td>...</td>\n",
       "      <td>0.0</td>\n",
       "      <td>0.0</td>\n",
       "      <td>0.0</td>\n",
       "      <td>0.0</td>\n",
       "      <td>0.0</td>\n",
       "      <td>0.0</td>\n",
       "      <td>0.0</td>\n",
       "      <td>0.0</td>\n",
       "      <td>0.0</td>\n",
       "      <td>358.513489</td>\n",
       "    </tr>\n",
       "    <tr>\n",
       "      <th>34376</th>\n",
       "      <td>29.080000</td>\n",
       "      <td>34.484479</td>\n",
       "      <td>0.15171</td>\n",
       "      <td>55.791471</td>\n",
       "      <td>365.0734</td>\n",
       "      <td>0.0</td>\n",
       "      <td>0.0</td>\n",
       "      <td>0.0</td>\n",
       "      <td>1.0</td>\n",
       "      <td>0.0</td>\n",
       "      <td>...</td>\n",
       "      <td>0.0</td>\n",
       "      <td>0.0</td>\n",
       "      <td>0.0</td>\n",
       "      <td>0.0</td>\n",
       "      <td>0.0</td>\n",
       "      <td>0.0</td>\n",
       "      <td>0.0</td>\n",
       "      <td>0.0</td>\n",
       "      <td>0.0</td>\n",
       "      <td>357.626373</td>\n",
       "    </tr>\n",
       "    <tr>\n",
       "      <th>35085</th>\n",
       "      <td>29.889999</td>\n",
       "      <td>34.413349</td>\n",
       "      <td>0.06910</td>\n",
       "      <td>55.507925</td>\n",
       "      <td>365.0734</td>\n",
       "      <td>0.0</td>\n",
       "      <td>0.0</td>\n",
       "      <td>0.0</td>\n",
       "      <td>1.0</td>\n",
       "      <td>0.0</td>\n",
       "      <td>...</td>\n",
       "      <td>0.0</td>\n",
       "      <td>0.0</td>\n",
       "      <td>0.0</td>\n",
       "      <td>0.0</td>\n",
       "      <td>0.0</td>\n",
       "      <td>0.0</td>\n",
       "      <td>0.0</td>\n",
       "      <td>0.0</td>\n",
       "      <td>0.0</td>\n",
       "      <td>351.883026</td>\n",
       "    </tr>\n",
       "    <tr>\n",
       "      <th>35086</th>\n",
       "      <td>29.830000</td>\n",
       "      <td>34.415154</td>\n",
       "      <td>0.06692</td>\n",
       "      <td>56.740250</td>\n",
       "      <td>365.0734</td>\n",
       "      <td>0.0</td>\n",
       "      <td>0.0</td>\n",
       "      <td>0.0</td>\n",
       "      <td>1.0</td>\n",
       "      <td>0.0</td>\n",
       "      <td>...</td>\n",
       "      <td>0.0</td>\n",
       "      <td>0.0</td>\n",
       "      <td>0.0</td>\n",
       "      <td>0.0</td>\n",
       "      <td>0.0</td>\n",
       "      <td>0.0</td>\n",
       "      <td>0.0</td>\n",
       "      <td>0.0</td>\n",
       "      <td>0.0</td>\n",
       "      <td>350.508789</td>\n",
       "    </tr>\n",
       "  </tbody>\n",
       "</table>\n",
       "<p>5 rows × 23 columns</p>\n",
       "</div>"
      ],
      "text/plain": [
       "              0          1        2          3         4    5    6    7    8   \\\n",
       "34015  28.930000  34.513330  0.11705  59.761087  365.0734  0.0  0.0  0.0  1.0   \n",
       "34375  29.119999  34.479020  0.10873  54.754461  365.0734  0.0  0.0  0.0  1.0   \n",
       "34376  29.080000  34.484479  0.15171  55.791471  365.0734  0.0  0.0  0.0  1.0   \n",
       "35085  29.889999  34.413349  0.06910  55.507925  365.0734  0.0  0.0  0.0  1.0   \n",
       "35086  29.830000  34.415154  0.06692  56.740250  365.0734  0.0  0.0  0.0  1.0   \n",
       "\n",
       "        9      ...       13   14   15   16   17   18   19   20   21  \\\n",
       "34015  0.0     ...      0.0  0.0  0.0  0.0  0.0  0.0  0.0  0.0  0.0   \n",
       "34375  0.0     ...      0.0  0.0  0.0  0.0  0.0  0.0  0.0  0.0  0.0   \n",
       "34376  0.0     ...      0.0  0.0  0.0  0.0  0.0  0.0  0.0  0.0  0.0   \n",
       "35085  0.0     ...      0.0  0.0  0.0  0.0  0.0  0.0  0.0  0.0  0.0   \n",
       "35086  0.0     ...      0.0  0.0  0.0  0.0  0.0  0.0  0.0  0.0  0.0   \n",
       "\n",
       "               22  \n",
       "34015  361.893005  \n",
       "34375  358.513489  \n",
       "34376  357.626373  \n",
       "35085  351.883026  \n",
       "35086  350.508789  \n",
       "\n",
       "[5 rows x 23 columns]"
      ]
     },
     "execution_count": 13,
     "metadata": {},
     "output_type": "execute_result"
    }
   ],
   "source": [
    "df_driver = pd.DataFrame(driver)\n",
    "df_driver_dropna = df_driver.dropna(axis=0)\n",
    "df_driver_dropna.head()\n",
    "\n",
    "### if you want a specific biome\n",
    "df_driver_biome = df_driver_dropna.loc[df_driver_dropna[8] == 1]\n",
    "df_driver_biome.head()"
   ]
  },
  {
   "cell_type": "code",
   "execution_count": 14,
   "metadata": {
    "collapsed": true
   },
   "outputs": [],
   "source": [
    "features = df_driver_biome.iloc[:,0:5].as_matrix()\n",
    "output = df_driver_biome.iloc[:,-1].as_matrix()"
   ]
  },
  {
   "cell_type": "code",
   "execution_count": 15,
   "metadata": {},
   "outputs": [
    {
     "name": "stdout",
     "output_type": "stream",
     "text": [
      "shape of X_train: (13515, 5)\n",
      "shape of X_test: (4506, 5)\n",
      "shape of y_train: (13515, 1)\n",
      "shape of y_test: (4506, 1)\n"
     ]
    }
   ],
   "source": [
    "X_train, X_test, y_train, y_test = train_test_split(features, output[:, np.newaxis], random_state=42)\n",
    "y_train = np.array(y_train)\n",
    "y_test =  np.array(y_test)\n",
    "X_train = np.array(X_train)\n",
    "X_test =  np.array(X_test)\n",
    "\n",
    "print('shape of X_train: ' + str(X_train.shape))\n",
    "print('shape of X_test: ' + str(X_test.shape))\n",
    "print('shape of y_train: ' + str(y_train.shape))\n",
    "print('shape of y_test: ' + str(y_test.shape))"
   ]
  },
  {
   "cell_type": "code",
   "execution_count": null,
   "metadata": {
    "collapsed": true
   },
   "outputs": [],
   "source": [
    "#type(driver[:,1].tolist())\n",
    "#driver.shape\n",
    "#batch_size=2\n",
    "#with tf.Session() as sess:\n",
    "#    tmp = sess.run(tf.train.batch([1,2,3,4,5,6], \n",
    " #                                 batch_size=batch_size, \n",
    " #                                 capacity=batch_size * 8, \n",
    " #                                 num_threads=4))\n",
    "                   \n"
   ]
  },
  {
   "cell_type": "code",
   "execution_count": 89,
   "metadata": {},
   "outputs": [
    {
     "data": {
      "text/plain": [
       "<tf.Tensor 'batch_9:0' shape=(1,) dtype=float32>"
      ]
     },
     "execution_count": 89,
     "metadata": {},
     "output_type": "execute_result"
    }
   ],
   "source": []
  },
  {
   "cell_type": "markdown",
   "metadata": {},
   "source": [
    "# Scale the data"
   ]
  },
  {
   "cell_type": "code",
   "execution_count": 16,
   "metadata": {},
   "outputs": [
    {
     "name": "stdout",
     "output_type": "stream",
     "text": [
      "0.0 0.99451027531\n",
      "0.00701842943793 0.0113206761424\n"
     ]
    }
   ],
   "source": [
    "#X_train_scale = minmax_scale(X_train, axis=1)\n",
    "#y_train_scale = minmax_scale(y_train, axis=0)\n",
    "\n",
    "X_train_scale = normalize(X_train, axis=1)\n",
    "y_train_scale, y_train_norm = normalize(y_train, axis=0, return_norm=True)\n",
    "\n",
    "X_test_scale = normalize(X_test, axis=1)\n",
    "y_test_scale, y_test_norm = normalize(y_test, axis=0, return_norm=True)\n",
    "\n",
    "print(np.min(X_train_scale), np.max(X_train_scale))\n",
    "print(np.min(y_train_scale), np.max(y_train_scale))"
   ]
  },
  {
   "cell_type": "code",
   "execution_count": 17,
   "metadata": {
    "collapsed": true
   },
   "outputs": [],
   "source": [
    "X_train_scale[:,4] = X_train_scale[:,4]*1.2"
   ]
  },
  {
   "cell_type": "markdown",
   "metadata": {},
   "source": [
    "\n",
    "# 2. Building a network"
   ]
  },
  {
   "cell_type": "code",
   "execution_count": 18,
   "metadata": {},
   "outputs": [
    {
     "name": "stdout",
     "output_type": "stream",
     "text": [
      "epoch = 0 loss = 0.0434432\n",
      "epoch = 1000 loss = 1.98352e-07\n",
      "epoch = 2000 loss = 1.84186e-07\n",
      "epoch = 3000 loss = 1.87188e-07\n",
      "epoch = 4000 loss = 3.33506e-07\n",
      "epoch = 5000 loss = 1.71413e-07\n",
      "epoch = 6000 loss = 1.72555e-07\n",
      "epoch = 7000 loss = 5.25533e-05\n",
      "epoch = 8000 loss = 1.64822e-07\n",
      "epoch = 9000 loss = 1.83772e-07\n",
      "epoch = 10000 loss = 1.75934e-07\n",
      "epoch = 11000 loss = 4.04001e-07\n",
      "epoch = 12000 loss = 2.3926e-07\n",
      "epoch = 13000 loss = 1.69935e-07\n",
      "epoch = 14000 loss = 1.72695e-07\n",
      "epoch = 15000 loss = 1.72884e-07\n",
      "epoch = 16000 loss = 1.74003e-07\n",
      "epoch = 17000 loss = 2.04972e-07\n",
      "epoch = 18000 loss = 3.37345e-07\n",
      "epoch = 19000 loss = 1.70801e-07\n"
     ]
    }
   ],
   "source": [
    "### Seed the random numbers\n",
    "np.random.seed(42)\n",
    "tf.set_random_seed(42)\n",
    "\n",
    "### input and output for tf\n",
    "tf_x = tf.placeholder(tf.float32, X_train.shape)      # input x\n",
    "tf_y = tf.placeholder(tf.float32, y_train.shape)      # input y\n",
    "\n",
    "# one layer 400 with 10% dropout is not bad\n",
    "# one layer 300 with 50% dropout is not bad\n",
    "### neural network layers (input -> L1 -> L2 -> D1 -> predict)\n",
    "layer1 = tf.layers.dense(tf_x, 100, activation=tf.nn.relu)    # hidden layer 1\n",
    "#dropout1 = tf.layers.dropout(layer1, 0.2)                     # Dropout layer 1\n",
    "# Layer 2 + Dropout 10%\n",
    "#layer2 = tf.layers.dense(layer1, 20, activation=tf.nn.relu) # hidden layer 2\n",
    "#dropout2 = tf.layers.dropout(layer2, 0.1)                     # Dropout layer 2\n",
    "# Layer 3 + Dropout 10%\n",
    "#layer3 = tf.layers.dense(layer2, 5, activation=tf.nn.relu) # hidden layer 3\n",
    "#dropout3 = tf.layers.dropout(layer3, 0.1)                     # Dropout layer 3\n",
    "output = tf.layers.dense(layer1, 1, activation=None)                         # output layer\n",
    "\n",
    "### Loss and optimzer\n",
    "loss = tf.losses.mean_squared_error(tf_y, output)   # compute cost\n",
    "optimizer = tf.train.AdamOptimizer(learning_rate=0.01)\n",
    "train_op = optimizer.minimize(loss)\n",
    "    \n",
    "### Run model in session\n",
    "with tf.Session() as sess:   # control training and others\n",
    "    sess.run(tf.global_variables_initializer())     # initialize var in graph\n",
    "\n",
    "    ### Train the model\n",
    "    for step in range(20000):\n",
    "        # train and net output\n",
    "        _, l, pred = sess.run([train_op, loss, output], {tf_x: X_train_scale, tf_y: y_train_scale})\n",
    "\n",
    "        ### Only print each 100th time step\n",
    "        if (step%1000==0):\n",
    "            print('epoch =',step, 'loss =',l)"
   ]
  },
  {
   "cell_type": "code",
   "execution_count": 19,
   "metadata": {},
   "outputs": [
    {
     "data": {
      "image/png": "[encoded data removed]",
      "text/plain": [
       "<matplotlib.figure.Figure at 0x11a385d68>"
      ]
     },
     "metadata": {},
     "output_type": "display_data"
    }
   ],
   "source": [
    "limit=[np.floor(np.min(y_train)), np.ceil(np.max(y_train))]\n",
    "plt.scatter(y_train, pred*y_train_norm)\n",
    "plt.xlabel('Observerd [uatm]')\n",
    "plt.ylabel('Modeled [uatm]')\n",
    "plt.xlim(limit)\n",
    "plt.ylim(limit)\n",
    "plt.show()\n"
   ]
  },
  {
   "cell_type": "code",
   "execution_count": 21,
   "metadata": {},
   "outputs": [
    {
     "data": {
      "text/plain": [
       "<matplotlib.figure.Figure at 0x1c8fcf4c18>"
      ]
     },
     "metadata": {},
     "output_type": "display_data"
    }
   ],
   "source": [
    "fig_dir = '/Users/gloege/Desktop/'\n",
    "plt.savefig(fig_dir + 'nn_test', \n",
    "            transparent=False, \n",
    "            dpi=80, \n",
    "            bbox_inches=\"tight\")"
   ]
  },
  {
   "cell_type": "code",
   "execution_count": null,
   "metadata": {
    "collapsed": true
   },
   "outputs": [],
   "source": [
    " with tf.Session(graph=graph) as sess:\n",
    "    ckpt = tf.train.get_checkpoint_state('./model/')\n",
    "    saver.restore(session, ckpt.model_checkpoint_path)\n",
    "    feed_dict = {tf_train_dataset : batch_data}\n",
    "    predictions = session.run([test_prediction], feed_dict)"
   ]
  },
  {
   "cell_type": "markdown",
   "metadata": {},
   "source": [
    "# Keras based model"
   ]
  },
  {
   "cell_type": "code",
   "execution_count": 47,
   "metadata": {
    "collapsed": true
   },
   "outputs": [],
   "source": [
    "import numpy as np\n",
    "import xarray as xr\n",
    "import matplotlib.pyplot as plt\n",
    "import os\n",
    "import tensorflow as tf\n",
    "from tensorflow.python import keras\n",
    "from tensorflow.python.keras.models import Sequential\n",
    "from tensorflow.python.keras.layers import Dense, Activation, Dropout"
   ]
  },
  {
   "cell_type": "code",
   "execution_count": 113,
   "metadata": {},
   "outputs": [
    {
     "name": "stdout",
     "output_type": "stream",
     "text": [
      "_________________________________________________________________\n",
      "Layer (type)                 Output Shape              Param #   \n",
      "=================================================================\n",
      "dense_69 (Dense)             (None, 100)               600       \n",
      "_________________________________________________________________\n",
      "dense_70 (Dense)             (None, 1)                 101       \n",
      "=================================================================\n",
      "Total params: 701\n",
      "Trainable params: 701\n",
      "Non-trainable params: 0\n",
      "_________________________________________________________________\n"
     ]
    }
   ],
   "source": [
    "### Gets the number of features (just number columns in driver)\n",
    "#number_features = driver.shape[1]\n",
    "\n",
    "### Model architecture\n",
    "model = Sequential()\n",
    "model.add(Dense(100, input_shape=(np.shape(X_train_scale)[1],), activation='relu'))\n",
    "#model.add(Dropout(0.3))\n",
    "#model.add(Dense(200, activation='relu'))\n",
    "#model.add(Dropout(0.5))\n",
    "model.add(Dense(1, activation='linear'))\n",
    "\n",
    "### Compile the model\n",
    "model.compile(optimizer='adam', loss='mse')\n",
    "\n",
    "### Show topogarphy\n",
    "model.summary()\n",
    "\n",
    "### Fit the model\n",
    "history_callback = model.fit(X_train_scale, y_train_scale, epochs=30, verbose=0)"
   ]
  },
  {
   "cell_type": "code",
   "execution_count": 120,
   "metadata": {},
   "outputs": [
    {
     "name": "stdout",
     "output_type": "stream",
     "text": [
      "4506/4506 [==============================]4506/4506 [==============================] - 0s 26us/step\n",
      "\n"
     ]
    }
   ],
   "source": [
    "pred = model.predict(X_test_scale, verbose=1)"
   ]
  },
  {
   "cell_type": "code",
   "execution_count": 121,
   "metadata": {},
   "outputs": [
    {
     "data": {
      "image/png": "[encoded data removed]",
      "text/plain": [
       "<matplotlib.figure.Figure at 0x1c8f104710>"
      ]
     },
     "metadata": {},
     "output_type": "display_data"
    }
   ],
   "source": [
    "limit=[np.floor(np.min(y_test)), np.ceil(np.max(y_test))]\n",
    "plt.scatter(y_test, pred*y_train_norm)\n",
    "#plt.xlim(limit)\n",
    "#plt.ylim(limit)\n",
    "plt.show()"
   ]
  },
  {
   "cell_type": "code",
   "execution_count": null,
   "metadata": {
    "collapsed": true
   },
   "outputs": [],
   "source": []
  }
 ],
 "metadata": {
  "kernelspec": {
   "display_name": "Python3.6",
   "language": "python",
   "name": "root"
  },
  "language_info": {
   "codemirror_mode": {
    "name": "ipython",
    "version": 3
   },
   "file_extension": ".py",
   "mimetype": "text/x-python",
   "name": "python",
   "nbconvert_exporter": "python",
   "pygments_lexer": "ipython3",
   "version": "3.6.3"
  }
 },
 "nbformat": 4,
 "nbformat_minor": 2
}
