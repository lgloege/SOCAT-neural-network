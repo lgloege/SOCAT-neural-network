{
 "cells": [
  {
   "cell_type": "markdown",
   "metadata": {},
   "source": [
    "#  SOCAT neural-network : TensorFlow\n",
    "\n",
    "This notebook contains all the code to run neural network using Tensorflow\n",
    "Driver data includes: SST, SSS, MLD, CHL, CO2 and we are predicting fCO2\n",
    "\n",
    "We are starting with monthly gridded observations 1998 - 2010"
   ]
  },
  {
   "cell_type": "code",
   "execution_count": 41,
   "metadata": {},
   "outputs": [
    {
     "name": "stdout",
     "output_type": "stream",
     "text": [
      "[name: \"/device:CPU:0\"\n",
      "device_type: \"CPU\"\n",
      "memory_limit: 268435456\n",
      "locality {\n",
      "}\n",
      "incarnation: 1127188842292245035\n",
      "]\n"
     ]
    }
   ],
   "source": [
    "import tensorflow as tf\n",
    "import numpy as np\n",
    "import xarray as xr\n",
    "import pandas as pd\n",
    "import matplotlib.pyplot as plt\n",
    "from sklearn.model_selection import train_test_split\n",
    "from sklearn.preprocessing import scale\n",
    "from sklearn.preprocessing import robust_scale\n",
    "from sklearn.preprocessing import normalize\n",
    "from sklearn.preprocessing import minmax_scale\n",
    "import os\n",
    "\n",
    "### Print if using CPU or GPU\n",
    "from tensorflow.python.client import device_lib\n",
    "print(device_lib.list_local_devices())\n",
    "\n",
    "%matplotlib inline"
   ]
  },
  {
   "cell_type": "code",
   "execution_count": null,
   "metadata": {},
   "outputs": [],
   "source": []
  },
  {
   "cell_type": "markdown",
   "metadata": {},
   "source": [
    "### All you need to change is data_dir"
   ]
  },
  {
   "cell_type": "code",
   "execution_count": 42,
   "metadata": {},
   "outputs": [
    {
     "data": {
      "text/plain": [
       "['SOCATv5_mask_199801-201012.nc',\n",
       " 'SALT_1x1_199801-201012.nc',\n",
       " 'MXLDEPTH_1x1_199801-201012.nc',\n",
       " 'co2_avg_199801-201012.nc',\n",
       " 'sst_1x1_199801-201012.nc',\n",
       " 'biomes.nc',\n",
       " 'SOCATv5_gridded_monthly_199801-201012.nc',\n",
       " 'Chl_1x1_199801-201012.nc']"
      ]
     },
     "execution_count": 42,
     "metadata": {},
     "output_type": "execute_result"
    }
   ],
   "source": [
    "data_dir='/Users/gloege/Documents/Projects/SOCAT-neural-network/data/data_driver_fixed/'\n",
    "os.listdir(data_dir)"
   ]
  },
  {
   "cell_type": "markdown",
   "metadata": {},
   "source": [
    "# 1. Get the data and sample like it's SOCAT"
   ]
  },
  {
   "cell_type": "code",
   "execution_count": 43,
   "metadata": {
    "collapsed": true
   },
   "outputs": [],
   "source": [
    "### SOCAT data paths\n",
    "fl_mask = data_dir + 'SOCATv5_mask_199801-201012.nc'\n",
    "fl_socat = data_dir + 'SOCATv5_gridded_monthly_199801-201012.nc'\n",
    "\n",
    "### Driver data paths\n",
    "fl_sss = data_dir + 'SALT_1x1_199801-201012.nc'\n",
    "fl_mld = data_dir + 'MXLDEPTH_1x1_199801-201012.nc'\n",
    "fl_co2 = data_dir + 'co2_avg_199801-201012.nc'\n",
    "fl_sst = data_dir + 'sst_1x1_199801-201012.nc'\n",
    "fl_chl = data_dir + 'Chl_1x1_199801-201012.nc'\n",
    "\n",
    "### biomes\n",
    "fl_biomes = data_dir + 'biomes.nc'"
   ]
  },
  {
   "cell_type": "code",
   "execution_count": 44,
   "metadata": {
    "collapsed": true
   },
   "outputs": [],
   "source": [
    "### SOCAT data \n",
    "ds_mask = xr.open_dataset(fl_mask)\n",
    "ds_socat = xr.open_dataset(fl_socat)\n",
    "\n",
    "### Driver data\n",
    "ds_sss = xr.open_dataset(fl_sss)\n",
    "ds_mld = xr.open_dataset(fl_mld)\n",
    "ds_co2 = xr.open_dataset(fl_co2)\n",
    "ds_sst = xr.open_dataset(fl_sst)\n",
    "ds_chl = xr.open_dataset(fl_chl)\n",
    "\n",
    "### Biomes\n",
    "ds_biomes = xr.open_dataset(fl_biomes)\n",
    "#mask = ds['socat_mask'].roll(xlon=-180)"
   ]
  },
  {
   "cell_type": "code",
   "execution_count": 45,
   "metadata": {},
   "outputs": [
    {
     "name": "stdout",
     "output_type": "stream",
     "text": [
      "Make sure all same dimensions and lon starts at 0\n",
      "(156, 180, 360) 0.5\n",
      "(156, 180, 360) 0.5\n",
      "(156, 180, 360) 0.5\n",
      "(156, 180, 360) 0.5\n",
      "(156, 180, 360) 0.5\n",
      "(156, 180, 360) 0.5\n",
      "(156,)\n"
     ]
    }
   ],
   "source": [
    "### Make sure all the same dimensions\n",
    "print('Make sure all same dimensions and lon starts at 0')\n",
    "print(ds_mask['socat_mask'].shape, ds_mask['xlon'].values[0])\n",
    "print(ds_socat['FCO2_AVE_UNWTD'].shape, ds_socat['xlon'].values[0])\n",
    "print(ds_sss['SALT'].shape, ds_sss['tlon'].values[0])\n",
    "print(ds_sst['sst'].shape, ds_sst['tlon'].values[0])\n",
    "print(ds_chl['Chl'].shape, ds_chl['tlon'].values[0])\n",
    "print(ds_mld['MXLDEPTH'].shape, ds_mld['tlon'].values[0])\n",
    "print(ds_co2['co2'].shape) \n"
   ]
  },
  {
   "cell_type": "code",
   "execution_count": 46,
   "metadata": {},
   "outputs": [
    {
     "name": "stdout",
     "output_type": "stream",
     "text": [
      "The shape of CO2 is now : (156, 180, 360)\n"
     ]
    }
   ],
   "source": [
    "### Grid\n",
    "lon = ds_socat['xlon']\n",
    "lat = ds_socat['ylat']\n",
    "time = ds_socat['tmnth']\n",
    "\n",
    "### Data\n",
    "mask = ds_mask['socat_mask'].values\n",
    "fco2 = ds_socat['FCO2_AVE_UNWTD'].values\n",
    "sss = ds_sss['SALT'].values\n",
    "sst = ds_sst['sst'].values\n",
    "chl = ds_chl['Chl'].values\n",
    "mld = ds_mld['MXLDEPTH'].values\n",
    "\n",
    "### This tiles CO2 so same shape as the others.\n",
    "co2 = np.tile(ds_co2['co2'].values[:, np.newaxis, np.newaxis],(1,180,360))\n",
    "\n",
    "### Show me the shape of co2\n",
    "print('The shape of CO2 is now : ' + str(co2.shape))"
   ]
  },
  {
   "cell_type": "markdown",
   "metadata": {},
   "source": [
    "## Pick out a biome"
   ]
  },
  {
   "cell_type": "code",
   "execution_count": 47,
   "metadata": {},
   "outputs": [
    {
     "data": {
      "text/plain": [
       "<matplotlib.collections.PolyCollection at 0x1c4d41c588>"
      ]
     },
     "execution_count": 47,
     "metadata": {},
     "output_type": "execute_result"
    },
    {
     "data": {
      "image/png": "[encoded data removed]",
      "text/plain": [
       "<matplotlib.figure.Figure at 0x1c1f11cb00>"
      ]
     },
     "metadata": {},
     "output_type": "display_data"
    }
   ],
   "source": [
    "### Get biomes \n",
    "all_biomes = np.swapaxes(ds_biomes['MeanBiomes'].roll(lon=-180),0,1).values\n",
    "\n",
    "### Pick out individual biom\n",
    "biomes_mask = (all_biomes!=4)\n",
    "biome = np.ma.masked_array(all_biomes, mask=biomes_mask)\n",
    "\n",
    "### Plot the biome\n",
    "plt.pcolor(lon,lat,biome)"
   ]
  },
  {
   "cell_type": "markdown",
   "metadata": {},
   "source": [
    "## Maximum of each variable\n",
    "I am taking the max of the unsampled (i.e. not sampled like SOCAT) and dividing this by the vector to normalize it between 0 and 1\n",
    "\n",
    "This may not be the best way to go, so I commented these lines out"
   ]
  },
  {
   "cell_type": "code",
   "execution_count": 48,
   "metadata": {
    "collapsed": true
   },
   "outputs": [],
   "source": [
    "#fco2_max = np.nanmax(fco2)\n",
    "\n",
    "### drivers\n",
    "#sss_max = np.nanmax(sss)\n",
    "#sst_max = np.nanmax(sst)\n",
    "#chl_max = np.nanmax(chl)\n",
    "#mld_max = np.nanmax(mld)\n",
    "#co2_max = np.nanmax(co2)\n",
    "\n",
    "#print('max sss ' + str(sss_max))\n",
    "#print('max sst ' + str(sst_max))\n",
    "#print('max chl ' + str(chl_max))\n",
    "#print('max mld ' + str(mld_max))\n",
    "#print('max co2 ' + str(co2_max))"
   ]
  },
  {
   "cell_type": "markdown",
   "metadata": {},
   "source": [
    "## Mask the data like it is SOCAT"
   ]
  },
  {
   "cell_type": "code",
   "execution_count": 49,
   "metadata": {
    "collapsed": true
   },
   "outputs": [],
   "source": [
    "fco2_socat = np.ma.masked_array(fco2, mask=(mask==0))\n",
    "\n",
    "sst_socat = np.ma.masked_array(sst, mask=(mask==0))\n",
    "sss_socat = np.ma.masked_array(sss, mask=(mask==0))\n",
    "chl_socat = np.ma.masked_array(chl, mask=(mask==0))\n",
    "mld_socat = np.ma.masked_array(mld, mask=(mask==0))\n",
    "co2_socat = np.ma.masked_array(co2, mask=(mask==0))"
   ]
  },
  {
   "cell_type": "code",
   "execution_count": 50,
   "metadata": {},
   "outputs": [],
   "source": [
    "fco2_ma = np.ma.masked_array(fco2_socat, mask=biomes_mask * np.ones(np.shape(fco2)[0])[:, None, None])\n",
    "\n",
    "sst_ma = np.ma.masked_array(sst_socat, mask=biomes_mask * np.ones(np.shape(sst)[0])[:, None, None])\n",
    "sss_ma = np.ma.masked_array(sss_socat, mask=biomes_mask * np.ones(np.shape(sss)[0])[:, None, None])\n",
    "chl_ma = np.ma.masked_array(chl_socat, mask=biomes_mask * np.ones(np.shape(chl)[0])[:, None, None])\n",
    "mld_ma = np.ma.masked_array(mld_socat, mask=biomes_mask * np.ones(np.shape(mld)[0])[:, None, None])\n",
    "co2_ma = np.ma.masked_array(co2_socat, mask=biomes_mask * np.ones(np.shape(co2)[0])[:, None, None])\n"
   ]
  },
  {
   "cell_type": "code",
   "execution_count": 51,
   "metadata": {},
   "outputs": [
    {
     "data": {
      "text/plain": [
       "<matplotlib.collections.PolyCollection at 0x1c4d3f95c0>"
      ]
     },
     "execution_count": 51,
     "metadata": {},
     "output_type": "execute_result"
    },
    {
     "data": {
      "image/png": "[encoded data removed]",
      "text/plain": [
       "<matplotlib.figure.Figure at 0x1c4d48a0f0>"
      ]
     },
     "metadata": {},
     "output_type": "display_data"
    }
   ],
   "source": [
    "plt.pcolor(lon,lat,sst_ma[100,:,:])"
   ]
  },
  {
   "cell_type": "markdown",
   "metadata": {},
   "source": [
    "## Driver data in large matrix and output"
   ]
  },
  {
   "cell_type": "code",
   "execution_count": 52,
   "metadata": {},
   "outputs": [
    {
     "name": "stdout",
     "output_type": "stream",
     "text": [
      "shape of driver: (10108800, 5)\n",
      "shape of true_value: (10108800, 1)\n"
     ]
    }
   ],
   "source": [
    "### What is driving the model\n",
    "driver = np.transpose(np.stack((sst_ma.flatten(), \n",
    "                                sss_ma.flatten(), \n",
    "                                chl_ma.flatten(), \n",
    "                                mld_ma.flatten(), \n",
    "                                co2_ma.flatten())))\n",
    "\n",
    "### What the true value is \n",
    "true_value = np.expand_dims(fco2_ma.flatten(),1)\n",
    "\n",
    "print('shape of driver: ' + str(driver.shape))\n",
    "print('shape of true_value: ' + str(true_value.shape))"
   ]
  },
  {
   "cell_type": "markdown",
   "metadata": {},
   "source": [
    "## Remove rows with NaN and train/test split\n",
    "I am calling these driver_nn and true_value_nn"
   ]
  },
  {
   "cell_type": "code",
   "execution_count": 53,
   "metadata": {
    "collapsed": true
   },
   "outputs": [],
   "source": [
    "#nan_mask=(~np.isnan(driver).any(axis=1)) & (~np.isnan(true_value).any(axis=1))"
   ]
  },
  {
   "cell_type": "code",
   "execution_count": 54,
   "metadata": {},
   "outputs": [],
   "source": [
    "df_driver = pd.DataFrame(driver)\n",
    "df_true = pd.DataFrame(true_value)"
   ]
  },
  {
   "cell_type": "code",
   "execution_count": 55,
   "metadata": {},
   "outputs": [
    {
     "data": {
      "text/plain": [
       "(4927899, 5)"
      ]
     },
     "execution_count": 55,
     "metadata": {},
     "output_type": "execute_result"
    }
   ],
   "source": [
    "df_driver.dropna(axis=0).shape"
   ]
  },
  {
   "cell_type": "code",
   "execution_count": 56,
   "metadata": {},
   "outputs": [
    {
     "ename": "NameError",
     "evalue": "name 'df_' is not defined",
     "output_type": "error",
     "traceback": [
      "\u001b[0;31m---------------------------------------------------------------------------\u001b[0m",
      "\u001b[0;31mNameError\u001b[0m                                 Traceback (most recent call last)",
      "\u001b[0;32m<ipython-input-56-623fde7876fc>\u001b[0m in \u001b[0;36m<module>\u001b[0;34m()\u001b[0m\n\u001b[0;32m----> 1\u001b[0;31m \u001b[0mdf_\u001b[0m\u001b[0;34m.\u001b[0m\u001b[0mdropna\u001b[0m\u001b[0;34m(\u001b[0m\u001b[0maxis\u001b[0m\u001b[0;34m=\u001b[0m\u001b[0;36m0\u001b[0m\u001b[0;34m)\u001b[0m\u001b[0;34m.\u001b[0m\u001b[0mshape\u001b[0m\u001b[0;34m\u001b[0m\u001b[0m\n\u001b[0m",
      "\u001b[0;31mNameError\u001b[0m: name 'df_' is not defined"
     ]
    }
   ],
   "source": [
    "#df_.dropna(axis=0).shape"
   ]
  },
  {
   "cell_type": "code",
   "execution_count": null,
   "metadata": {},
   "outputs": [],
   "source": [
    "driver_nn = driver[nan_mask]\n",
    "true_value_nn = true_value[nan_mask]\n",
    "print('shape of driver_nn: ' + str(driver_nn.shape))\n",
    "print('shape of true_value_nn: ' + str(true_value_nn.shape))"
   ]
  },
  {
   "cell_type": "code",
   "execution_count": null,
   "metadata": {
    "collapsed": true
   },
   "outputs": [],
   "source": [
    "X_train, X_test, y_train, y_test = train_test_split(driver_nn, true_value_nn, random_state=42)\n",
    "y_train = np.array(y_train)\n",
    "y_test =  np.array(y_test)\n",
    "X_train = np.array(X_train)\n",
    "X_test =  np.array(X_test)"
   ]
  },
  {
   "cell_type": "code",
   "execution_count": null,
   "metadata": {},
   "outputs": [],
   "source": [
    "print('shape of X_train: ' + str(X_train.shape))\n",
    "print('shape of X_test: ' + str(X_test.shape))\n",
    "print('shape of y_train: ' + str(y_train.shape))\n",
    "print('shape of y_test: ' + str(y_test.shape))"
   ]
  },
  {
   "cell_type": "code",
   "execution_count": null,
   "metadata": {},
   "outputs": [],
   "source": [
    "print('shape of X_train: ' + str(X_train.shape))\n",
    "print('shape of X_test: ' + str(X_test.shape))\n",
    "print('shape of y_train: ' + str(y_train.shape))\n",
    "print('shape of y_test: ' + str(y_test.shape))"
   ]
  },
  {
   "cell_type": "code",
   "execution_count": null,
   "metadata": {
    "collapsed": true
   },
   "outputs": [],
   "source": [
    "#tmp = ~np.isnan(true_value_nn)\n",
    "#print(np.sum(tmp))\n",
    "#print(tmp.shape)"
   ]
  },
  {
   "cell_type": "code",
   "execution_count": null,
   "metadata": {},
   "outputs": [],
   "source": []
  },
  {
   "cell_type": "markdown",
   "metadata": {},
   "source": [
    "# Scale the data"
   ]
  },
  {
   "cell_type": "code",
   "execution_count": null,
   "metadata": {},
   "outputs": [],
   "source": [
    "X_train_scale = normalize(X_train, axis=1)\n",
    "y_train_scale = normalize(y_train, axis=0)"
   ]
  },
  {
   "cell_type": "code",
   "execution_count": null,
   "metadata": {},
   "outputs": [],
   "source": [
    "print(np.min(X_train_scale), np.max(X_train_scale))\n",
    "print(np.min(y_train_scale), np.max(y_train_scale))"
   ]
  },
  {
   "cell_type": "markdown",
   "metadata": {},
   "source": [
    "\n",
    "# 2. Building a network"
   ]
  },
  {
   "cell_type": "code",
   "execution_count": 57,
   "metadata": {},
   "outputs": [
    {
     "ename": "NameError",
     "evalue": "name 'X_train' is not defined",
     "output_type": "error",
     "traceback": [
      "\u001b[0;31m---------------------------------------------------------------------------\u001b[0m",
      "\u001b[0;31mNameError\u001b[0m                                 Traceback (most recent call last)",
      "\u001b[0;32m<ipython-input-57-4bf430b19f83>\u001b[0m in \u001b[0;36m<module>\u001b[0;34m()\u001b[0m\n\u001b[1;32m      4\u001b[0m \u001b[0;34m\u001b[0m\u001b[0m\n\u001b[1;32m      5\u001b[0m \u001b[0;31m### input and output for tf\u001b[0m\u001b[0;34m\u001b[0m\u001b[0;34m\u001b[0m\u001b[0m\n\u001b[0;32m----> 6\u001b[0;31m \u001b[0mtf_x\u001b[0m \u001b[0;34m=\u001b[0m \u001b[0mtf\u001b[0m\u001b[0;34m.\u001b[0m\u001b[0mplaceholder\u001b[0m\u001b[0;34m(\u001b[0m\u001b[0mtf\u001b[0m\u001b[0;34m.\u001b[0m\u001b[0mfloat32\u001b[0m\u001b[0;34m,\u001b[0m \u001b[0mX_train\u001b[0m\u001b[0;34m.\u001b[0m\u001b[0mshape\u001b[0m\u001b[0;34m)\u001b[0m      \u001b[0;31m# input x\u001b[0m\u001b[0;34m\u001b[0m\u001b[0m\n\u001b[0m\u001b[1;32m      7\u001b[0m \u001b[0mtf_y\u001b[0m \u001b[0;34m=\u001b[0m \u001b[0mtf\u001b[0m\u001b[0;34m.\u001b[0m\u001b[0mplaceholder\u001b[0m\u001b[0;34m(\u001b[0m\u001b[0mtf\u001b[0m\u001b[0;34m.\u001b[0m\u001b[0mfloat32\u001b[0m\u001b[0;34m,\u001b[0m \u001b[0my_train\u001b[0m\u001b[0;34m.\u001b[0m\u001b[0mshape\u001b[0m\u001b[0;34m)\u001b[0m      \u001b[0;31m# input y\u001b[0m\u001b[0;34m\u001b[0m\u001b[0m\n\u001b[1;32m      8\u001b[0m \u001b[0;34m\u001b[0m\u001b[0m\n",
      "\u001b[0;31mNameError\u001b[0m: name 'X_train' is not defined"
     ]
    }
   ],
   "source": [
    "### Seed the random numbers\n",
    "tf.set_random_seed(1)\n",
    "np.random.seed(1)\n",
    "\n",
    "### input and output for tf\n",
    "tf_x = tf.placeholder(tf.float32, X_train.shape)      # input x\n",
    "tf_y = tf.placeholder(tf.float32, y_train.shape)      # input y\n",
    "\n",
    "### neural network layers (input -> 10_U -> 1_U)\n",
    "l1 = tf.layers.dense(tf_x, 100, activation=tf.nn.relu) # hidden layer\n",
    "l2 = tf.layers.dense(l1, 100, activation=tf.nn.relu) # hidden layer\n",
    "l3 = tf.layers.dense(l2, 100, activation=tf.nn.relu) # hidden layer\n",
    "output = tf.layers.dense(l3, 1, activation=None)                       # output layer\n",
    "\n",
    "### Loss and optimzer\n",
    "loss = tf.losses.mean_squared_error(tf_y, output)   # compute cost\n",
    "optimizer = tf.train.AdamOptimizer(learning_rate=0.001)\n",
    "train_op = optimizer.minimize(loss)\n",
    "    \n",
    "### Run model in session\n",
    "with tf.Session() as sess:   # control training and others\n",
    "    sess.run(tf.global_variables_initializer())     # initialize var in graph\n",
    "\n",
    "    ### Train the model\n",
    "    for step in range(100):\n",
    "        # train and net output\n",
    "        _, l, pred = sess.run([train_op, loss, output], {tf_x: X_train_scale, tf_y: y_train_scale})\n",
    "        #print(step)"
   ]
  },
  {
   "cell_type": "code",
   "execution_count": null,
   "metadata": {},
   "outputs": [],
   "source": [
    "plt.scatter(y_train_scale, pred)\n",
    "plt.xlim([0, 0.01])\n",
    "plt.ylim([0, 0.01])\n",
    "plt.show()"
   ]
  },
  {
   "cell_type": "code",
   "execution_count": null,
   "metadata": {},
   "outputs": [],
   "source": [
    "#plt.plot(y_train)\n",
    "#plt.show()"
   ]
  },
  {
   "cell_type": "code",
   "execution_count": null,
   "metadata": {
    "collapsed": true
   },
   "outputs": [],
   "source": []
  }
 ],
 "metadata": {
  "kernelspec": {
   "display_name": "Python3.6",
   "language": "python",
   "name": "root"
  },
  "language_info": {
   "codemirror_mode": {
    "name": "ipython",
    "version": 3
   },
   "file_extension": ".py",
   "mimetype": "text/x-python",
   "name": "python",
   "nbconvert_exporter": "python",
   "pygments_lexer": "ipython3",
   "version": "3.6.3"
  }
 },
 "nbformat": 4,
 "nbformat_minor": 2
}
