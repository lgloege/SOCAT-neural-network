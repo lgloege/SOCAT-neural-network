{
 "cells": [
  {
   "cell_type": "markdown",
   "metadata": {},
   "source": [
    "# Tensorflow regression example\n",
    "This uses the Boston housing dataset part of sklearn.\n",
    "This makes use the the scale function part of sklearn.preprocessing"
   ]
  },
  {
   "cell_type": "code",
   "execution_count": 11,
   "metadata": {
    "collapsed": true
   },
   "outputs": [],
   "source": [
    "import tensorflow as tf\n",
    "from sklearn.datasets import load_boston\n",
    "from sklearn.preprocessing import scale\n",
    "from matplotlib import pyplot as plt"
   ]
  },
  {
   "cell_type": "code",
   "execution_count": 12,
   "metadata": {},
   "outputs": [
    {
     "name": "stdout",
     "output_type": "stream",
     "text": [
      "Using Tensorflow version 1.5.1.\n"
     ]
    }
   ],
   "source": [
    "print('Using Tensorflow version {}.'.format(tf.__version__))"
   ]
  },
  {
   "cell_type": "code",
   "execution_count": 13,
   "metadata": {
    "collapsed": true
   },
   "outputs": [],
   "source": [
    "# Get the data\n",
    "total_features, total_prices = load_boston(True)\n",
    "\n",
    "# Keep 300 samples for training\n",
    "train_features = scale(total_features[:300])\n",
    "train_prices = total_prices[:300]\n",
    "\n",
    "# Keep 100 samples for validation\n",
    "valid_features = scale(total_features[300:400])\n",
    "valid_prices = total_prices[300:400]\n",
    "\n",
    "# Keep remaining samples as test set\n",
    "test_features = scale(total_features[400:])\n",
    "test_prices = total_prices[400:]"
   ]
  },
  {
   "cell_type": "code",
   "execution_count": 15,
   "metadata": {},
   "outputs": [
    {
     "name": "stdout",
     "output_type": "stream",
     "text": [
      "(106, 13)\n",
      "(106,)\n"
     ]
    }
   ],
   "source": [
    "print(test_features.shape)\n",
    "print(test_prices.shape)"
   ]
  },
  {
   "cell_type": "code",
   "execution_count": 16,
   "metadata": {
    "collapsed": true
   },
   "outputs": [],
   "source": [
    "w = tf.Variable(tf.truncated_normal([13, 1], mean=0.0, stddev=1.0, dtype=tf.float64))\n",
    "b = tf.Variable(tf.zeros(1, dtype = tf.float64))"
   ]
  },
  {
   "cell_type": "code",
   "execution_count": 17,
   "metadata": {
    "collapsed": true
   },
   "outputs": [],
   "source": [
    "def calc(x, y):\n",
    "    # Returns predictions and error\n",
    "    predictions = tf.add(b, tf.matmul(x, w)) # b + XW\n",
    "    error = tf.reduce_mean(tf.square(y - predictions))\n",
    "    return [ predictions, error ]"
   ]
  },
  {
   "cell_type": "code",
   "execution_count": 18,
   "metadata": {
    "collapsed": true
   },
   "outputs": [],
   "source": [
    "y, cost = calc(train_features, train_prices)\n",
    "\n",
    "# Feel free to tweak these 2 values:\n",
    "learning_rate = 0.025\n",
    "epochs = 3000\n",
    "points = [[], []] # You'll see later why I need this"
   ]
  },
  {
   "cell_type": "code",
   "execution_count": 19,
   "metadata": {
    "collapsed": true
   },
   "outputs": [],
   "source": [
    "init = tf.global_variables_initializer()\n",
    "optimizer = tf.train.GradientDescentOptimizer(learning_rate).minimize(cost)"
   ]
  },
  {
   "cell_type": "code",
   "execution_count": 20,
   "metadata": {},
   "outputs": [
    {
     "name": "stdout",
     "output_type": "stream",
     "text": [
      "670.967553251\n",
      "78.7644258343\n",
      "78.7263921149\n",
      "78.7254208545\n",
      "78.7253179224\n",
      "78.7253019034\n",
      "78.7252989762\n",
      "78.7252983906\n",
      "78.7252982631\n",
      "78.7252982329\n",
      "78.7252982252\n",
      "78.7252982231\n",
      "78.7252982225\n",
      "78.7252982223\n",
      "78.7252982222\n",
      "78.7252982222\n",
      "78.7252982222\n",
      "78.7252982222\n",
      "78.7252982222\n",
      "78.7252982222\n",
      "78.7252982222\n",
      "78.7252982222\n",
      "78.7252982222\n",
      "78.7252982222\n",
      "78.7252982222\n",
      "78.7252982222\n",
      "78.7252982222\n",
      "78.7252982222\n",
      "78.7252982222\n",
      "78.7252982222\n"
     ]
    },
    {
     "data": {
      "image/png": "[encoded data removed]",
      "text/plain": [
       "<matplotlib.figure.Figure at 0x1a2356a668>"
      ]
     },
     "metadata": {},
     "output_type": "display_data"
    },
    {
     "name": "stdout",
     "output_type": "stream",
     "text": [
      "Validation error = 104.343677778 \n",
      "\n"
     ]
    }
   ],
   "source": [
    "with tf.Session() as sess:\n",
    "\n",
    "    sess.run(init)\n",
    "\n",
    "    for i in list(range(epochs)):\n",
    "\n",
    "        sess.run(optimizer)\n",
    "\n",
    "        if i % 10 == 0.:\n",
    "            points[0].append(i+1)\n",
    "            points[1].append(sess.run(cost))\n",
    "\n",
    "        if i % 100 == 0:\n",
    "            print(sess.run(cost))\n",
    "\n",
    "    plt.plot(points[0], points[1], 'r--')\n",
    "    plt.axis([0, epochs, 50, 600])\n",
    "    plt.show()\n",
    "\n",
    "    valid_cost = calc(valid_features, valid_prices)[1]\n",
    "\n",
    "    print('Validation error =', sess.run(valid_cost), '\\n')\n",
    "\n",
    "    test_cost = calc(test_features, test_prices)[1]\n",
    "\n",
    "    # print('Test error =', sess.run(test_cost), '\\n')"
   ]
  },
  {
   "cell_type": "code",
   "execution_count": null,
   "metadata": {
    "collapsed": true
   },
   "outputs": [],
   "source": []
  }
 ],
 "metadata": {
  "kernelspec": {
   "display_name": "Python3.6",
   "language": "python",
   "name": "root"
  },
  "language_info": {
   "codemirror_mode": {
    "name": "ipython",
    "version": 3
   },
   "file_extension": ".py",
   "mimetype": "text/x-python",
   "name": "python",
   "nbconvert_exporter": "python",
   "pygments_lexer": "ipython3",
   "version": "3.6.3"
  }
 },
 "nbformat": 4,
 "nbformat_minor": 2
}
